{
  "nbformat": 4,
  "nbformat_minor": 0,
  "metadata": {
    "colab": {
      "provenance": []
    },
    "kernelspec": {
      "name": "python3",
      "display_name": "Python 3"
    },
    "language_info": {
      "name": "python"
    }
  },
  "cells": [
    {
      "cell_type": "markdown",
      "source": [
        "# Análisis de Curvas de Luz y Exoplanetas\n",
        "\n",
        "Unas de las áreas de mayor interés en la actualidad es la detección y estudio de exoplanetas. Esto se puede lograr a través del método de tránsito al analizar las curvas de luz de las estrellas. Es decir, la evolucón del brillo de los objetos celestes con el paso del tiempo con el fin de detectar variaciones (o en otras palabras: transientes).\n",
        "\n",
        "Un tránsito se produce cuando el brilo de una estrella disminuye de manera drástica por un periodo de tiempo debido al paso de un cuerpo opaco (por ejemplo un planeta) frente a éste, bloquenado parte de su luz. Teniendo en cuenta el movimiento del objeto de menor tamaño, el resultado es una curva de luz en forma de \"U\", el cual puede darnos parámetros importantes.\n",
        "\n",
        "![transit](https://miro.medium.com/v2/resize:fit:1370/format:webp/0*ICGs2x7IfAUwCpFG.png)"
      ],
      "metadata": {
        "id": "S1gV5QvJaJ7R"
      }
    },
    {
      "cell_type": "markdown",
      "source": [
        "La herramienta que vamos a utilizar en este caso es \"Lightkurve\", paquetería encargada de descargar datos de sondeos de exoplanetas. Uno de ellos es el \"Transiting Exoplanet Survey Satellite\" (TESS).\n",
        "\n",
        "Vamos a instalarlo inicialmente:"
      ],
      "metadata": {
        "id": "sHUtdUi5bUmt"
      }
    },
    {
      "cell_type": "code",
      "execution_count": null,
      "metadata": {
        "id": "WL0rSvh1ro_n"
      },
      "outputs": [],
      "source": [
        "!pip install lightkurve"
      ]
    },
    {
      "cell_type": "code",
      "source": [
        "import lightkurve as lk\n",
        "import numpy as np\n",
        "import matplotlib.pyplot as plt"
      ],
      "metadata": {
        "id": "_sX-2KPlr7J-"
      },
      "execution_count": null,
      "outputs": []
    },
    {
      "cell_type": "markdown",
      "source": [
        "Las estrellas observadas por TESS tienen un identificador único iniciando por TIC (TESS Imput Catalogue) y un número de al menos 8 o 9 cifras. Un poco incómodo la verdad, sin embargo, se pueden aceptar nombres propios ya otorgados. Eso lo veremos más adelante.\n",
        "\n",
        "Por ejemplo, vamos a analizar el objeto TIC 284475976."
      ],
      "metadata": {
        "id": "CN8FRbjJb0Er"
      }
    },
    {
      "cell_type": "code",
      "source": [],
      "metadata": {
        "id": "DMaCTuKTsDzY"
      },
      "execution_count": null,
      "outputs": []
    },
    {
      "cell_type": "code",
      "source": [
        "#Visualizamos los datos para ver los productos disponibles para descargar\n"
      ],
      "metadata": {
        "id": "jTvnbvXlsXW-"
      },
      "execution_count": null,
      "outputs": []
    },
    {
      "cell_type": "markdown",
      "source": [
        "Ahora, procederemos a descargarlos."
      ],
      "metadata": {
        "id": "uN6ZiQk3eQ8M"
      }
    },
    {
      "cell_type": "code",
      "source": [],
      "metadata": {
        "id": "_t_NPs3Qsel1"
      },
      "execution_count": null,
      "outputs": []
    },
    {
      "cell_type": "markdown",
      "source": [
        "¿Que se ha descargado exáctamente? Se trata de una tabla de múltiples datos. Sin embargo, las más importantes son las que digan ``flux`` (que es el brillo de la estrella) y ``time``, que es el tiempo de la observación. Vamos a ver:"
      ],
      "metadata": {
        "id": "qHr5PWWKeT8r"
      }
    },
    {
      "cell_type": "code",
      "source": [],
      "metadata": {
        "id": "a9QKhg1fdZuH"
      },
      "execution_count": null,
      "outputs": []
    },
    {
      "cell_type": "markdown",
      "source": [
        "A gusto del usuario, vamos a guardar la tabla en nuestro computador usando la herramienta de pandas."
      ],
      "metadata": {
        "id": "FMvmipide3LI"
      }
    },
    {
      "cell_type": "code",
      "source": [
        "import pandas as pd\n",
        "\n"
      ],
      "metadata": {
        "id": "xRKG0gATe_1f"
      },
      "execution_count": null,
      "outputs": []
    },
    {
      "cell_type": "markdown",
      "source": [
        "## Graficación de los datos.\n",
        "\n",
        "¿Cómo podemos ver los datos que acabamos de descargar? Tenemos dos opciones, usar matplotlib a partir del DataFrame que acabamos de crear o usar directamente la herramienta de ``LightKurve`` que permite visiualizar rápidamente."
      ],
      "metadata": {
        "id": "dTV5l4bLfvEV"
      }
    },
    {
      "cell_type": "code",
      "source": [],
      "metadata": {
        "id": "by2rxKlcs_M_"
      },
      "execution_count": null,
      "outputs": []
    },
    {
      "cell_type": "code",
      "source": [],
      "metadata": {
        "id": "Pq88UzovgCrR"
      },
      "execution_count": null,
      "outputs": []
    },
    {
      "cell_type": "markdown",
      "source": [
        "## ¡Sin embargo!\n",
        "\n",
        "Hay que tener cuidado, porque no todas las estrellas de TESS contienen exoplanetas. Existen otras características que pueden confundir. Veamos otro ejemplo:"
      ],
      "metadata": {
        "id": "_vIw0tETgzul"
      }
    },
    {
      "cell_type": "code",
      "source": [],
      "metadata": {
        "id": "nJBCt8x5g7iT"
      },
      "execution_count": null,
      "outputs": []
    },
    {
      "cell_type": "markdown",
      "source": [
        "## ¿Qué está pasando?\n",
        "### La respuesta: manchas estelares.\n",
        "\n",
        "![starspots](https://media.springernature.com/full/springer-static/image/art%3A10.12942%2Flrsp-2005-8/MediaObjects/41116_2015_9184_Fig2.jpg?as=webp)"
      ],
      "metadata": {
        "id": "mbao6OzE5ChT"
      }
    },
    {
      "cell_type": "markdown",
      "source": [
        "# Analicemos la curva de luz:\n",
        "\n",
        "Vamos a observar lo que podemos analizar de nuestra curva de luz. Tomemos como ejemplo un caso de estudio según el NASA Exoplanet Archive: https://exoplanetarchive.ipac.caltech.edu/"
      ],
      "metadata": {
        "id": "tSm8QvGoi742"
      }
    },
    {
      "cell_type": "code",
      "source": [
        "Sys = 'Kepler-435'\n",
        "sector_data = lk.search_lightcurve(Sys, mission='TESS', author=None)"
      ],
      "metadata": {
        "id": "6KxCs5n0jA3z"
      },
      "execution_count": null,
      "outputs": []
    },
    {
      "cell_type": "code",
      "source": [
        "sector_data"
      ],
      "metadata": {
        "id": "OkqukwimjLX7"
      },
      "execution_count": null,
      "outputs": []
    },
    {
      "cell_type": "code",
      "source": [],
      "metadata": {
        "id": "ivfdwVShjNgs"
      },
      "execution_count": null,
      "outputs": []
    },
    {
      "cell_type": "code",
      "source": [],
      "metadata": {
        "id": "HbGcbM0gjUD_"
      },
      "execution_count": null,
      "outputs": []
    },
    {
      "cell_type": "code",
      "source": [],
      "metadata": {
        "id": "1LEUCwAnjfW6"
      },
      "execution_count": null,
      "outputs": []
    },
    {
      "cell_type": "markdown",
      "source": [
        "Vamos a ver cómo quedó la curva de luz normalizada:"
      ],
      "metadata": {
        "id": "Wn58-cv7lziJ"
      }
    },
    {
      "cell_type": "code",
      "source": [],
      "metadata": {
        "id": "at3mJU_Zl2dH"
      },
      "execution_count": null,
      "outputs": []
    },
    {
      "cell_type": "markdown",
      "source": [
        "Vamos a calcular el periodo de la curva de luz:"
      ],
      "metadata": {
        "id": "CmpTSwp7l8Kv"
      }
    },
    {
      "cell_type": "code",
      "source": [],
      "metadata": {
        "id": "mCfVBE90mDM-"
      },
      "execution_count": null,
      "outputs": []
    },
    {
      "cell_type": "code",
      "source": [],
      "metadata": {
        "id": "8dJ2gP-2m5Lm"
      },
      "execution_count": null,
      "outputs": []
    },
    {
      "cell_type": "code",
      "source": [
        "period =\n",
        "t0 =\n",
        "\n"
      ],
      "metadata": {
        "id": "caI6niclyLW5"
      },
      "execution_count": null,
      "outputs": []
    },
    {
      "cell_type": "markdown",
      "source": [
        "## Estimación de parámetros del objeto transitante\n",
        "\n",
        "Con la información observacional, se pueden realizar algunas estimaciones importantes sobre las características del objeto que está transitando sobre la estrella:\n",
        "\n",
        "* Radio del planeta: $R_p = R_*\\sqrt{\\Delta F}$\n",
        "* Distancia Planeta-Estrella: $a=\\frac{2P R_*}{\\pi}\\frac{\\Delta F^{1/4}}{\\sqrt{t_T^2-t_F^2}}$\n",
        "* La masa total: $(M_* + M_p)=\\frac{4\\pi^2a^3}{GP^2}$\n",
        "\n",
        "¿Qué les parece si hacemos algunas estimaciones? ;)"
      ],
      "metadata": {
        "id": "pdgykDxR3Sv7"
      }
    },
    {
      "cell_type": "code",
      "source": [],
      "metadata": {
        "id": "I3MxAyDE5PeU"
      },
      "execution_count": null,
      "outputs": []
    },
    {
      "cell_type": "markdown",
      "source": [
        "## Pregunta... pregunta...\n",
        "\n",
        "Si asumimos que la masa de la estrella es mucho mayor que la del planeta. ¿Cuál sería la densidad de la estrella?"
      ],
      "metadata": {
        "id": "wDW5XnYV7WXW"
      }
    },
    {
      "cell_type": "code",
      "source": [],
      "metadata": {
        "id": "l7Bfm7zh7bu0"
      },
      "execution_count": null,
      "outputs": []
    }
  ]
}