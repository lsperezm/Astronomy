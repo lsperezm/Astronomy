{
 "cells": [
  {
   "cell_type": "markdown",
   "metadata": {
    "id": "rtwxPaaGew9r"
   },
   "source": [
    "![Python](https://upload.wikimedia.org/wikipedia/commons/f/f8/Python_logo_and_wordmark.svg)"
   ]
  },
  {
   "cell_type": "markdown",
   "metadata": {
    "id": "mg57h3Y43hvY"
   },
   "source": [
    "# Introducción a Python - Ejercicios de Calentamiento\n",
    "\n",
    "En este cuaderno, se realizará una introducción al lenguaje de programación Python, el cual será la base de todos los ejercicios que se desarrollarán en el curso. Particularmente, trabajaremos con las 4 librerías básicas: Numpy, Matplotlib, Astropy y Pandas.\n",
    "\n",
    "Creado por: Sergio Andrés Sánchez Sanjuán <br>\n",
    "Curso de Herramientas para la astronomía computacional <br>\n",
    "Universidad de los Andes, Bogotá - Julio 6 de 2024 <br>\n",
    "\n",
    "Correo: sergsanchez@astro.unam.mx\n",
    "\n",
    "Páginas de soporte para consultar:\n",
    "1. Simbad: https://cds.unistra.fr/\n",
    "2. Stellarium Web: https://stellarium-web.org/\n",
    "3."
   ]
  },
  {
   "cell_type": "markdown",
   "metadata": {
    "id": "jLv7w4hWew9t"
   },
   "source": [
    "![Numpy](https://upload.wikimedia.org/wikipedia/commons/thumb/3/31/NumPy_logo_2020.svg/640px-NumPy_logo_2020.svg.png)"
   ]
  },
  {
   "cell_type": "code",
   "execution_count": 1,
   "metadata": {
    "colab": {
     "base_uri": "https://localhost:8080/"
    },
    "id": "ML5AVwga3hvY",
    "outputId": "816bfef3-121e-44b6-e4e5-3174de78114e"
   },
   "outputs": [
    {
     "name": "stdout",
     "output_type": "stream",
     "text": [
      "NumPy version: 1.23.5\n"
     ]
    }
   ],
   "source": [
    "import numpy as np\n",
    "\n",
    "print(f\"NumPy version: {np.__version__}\")\n",
    "\n",
    "rng = np.random.default_rng(42)"
   ]
  },
  {
   "cell_type": "markdown",
   "metadata": {
    "id": "Hzht4acT3hvZ"
   },
   "source": [
    "## Estructura básica en NumPy: `ndarray`"
   ]
  },
  {
   "cell_type": "code",
   "execution_count": 2,
   "metadata": {
    "colab": {
     "base_uri": "https://localhost:8080/"
    },
    "id": "25cAyetB3hvZ",
    "outputId": "690a6135-0c45-4b43-e420-a039f89f2013"
   },
   "outputs": [
    {
     "data": {
      "text/plain": [
       "array([1, 2, 3, 4, 5, 6])"
      ]
     },
     "execution_count": 2,
     "metadata": {},
     "output_type": "execute_result"
    }
   ],
   "source": [
    "a = np.array([1, 2, 3, 4, 5, 6])\n",
    "a"
   ]
  },
  {
   "cell_type": "code",
   "execution_count": 3,
   "metadata": {
    "colab": {
     "base_uri": "https://localhost:8080/"
    },
    "id": "uuKr504z3hvZ",
    "outputId": "a1476ab1-5833-4a97-e151-a8d4da2703a4"
   },
   "outputs": [
    {
     "data": {
      "text/plain": [
       "numpy.ndarray"
      ]
     },
     "execution_count": 3,
     "metadata": {},
     "output_type": "execute_result"
    }
   ],
   "source": [
    "type(a)"
   ]
  },
  {
   "cell_type": "markdown",
   "metadata": {
    "id": "wTye4VBg3hvZ"
   },
   "source": [
    "### Propiedades en arreglos"
   ]
  },
  {
   "cell_type": "code",
   "execution_count": 4,
   "metadata": {
    "colab": {
     "base_uri": "https://localhost:8080/"
    },
    "id": "ynU1jbQM3hvZ",
    "outputId": "2fe2a064-d2bf-45f3-a38a-04fc7584b5f7"
   },
   "outputs": [
    {
     "data": {
      "text/plain": [
       "6"
      ]
     },
     "execution_count": 4,
     "metadata": {},
     "output_type": "execute_result"
    }
   ],
   "source": [
    "a.size"
   ]
  },
  {
   "cell_type": "code",
   "execution_count": 5,
   "metadata": {
    "colab": {
     "base_uri": "https://localhost:8080/"
    },
    "id": "huecZ72f3hva",
    "outputId": "9db2efa2-dadf-4aa3-8f9d-4b434a01eebc"
   },
   "outputs": [
    {
     "data": {
      "text/plain": [
       "1"
      ]
     },
     "execution_count": 5,
     "metadata": {},
     "output_type": "execute_result"
    }
   ],
   "source": [
    "a.ndim"
   ]
  },
  {
   "cell_type": "code",
   "execution_count": 6,
   "metadata": {
    "colab": {
     "base_uri": "https://localhost:8080/"
    },
    "id": "JQ-rtwhJ3hva",
    "outputId": "c8a7a309-6084-4b56-bf81-c806f9932d25"
   },
   "outputs": [
    {
     "data": {
      "text/plain": [
       "(6,)"
      ]
     },
     "execution_count": 6,
     "metadata": {},
     "output_type": "execute_result"
    }
   ],
   "source": [
    "a.shape"
   ]
  },
  {
   "cell_type": "code",
   "execution_count": 7,
   "metadata": {
    "colab": {
     "base_uri": "https://localhost:8080/"
    },
    "id": "BHEn1VrQ3hva",
    "outputId": "9d542686-1402-446d-bfaa-90398e93beab"
   },
   "outputs": [
    {
     "data": {
      "text/plain": [
       "dtype('int32')"
      ]
     },
     "execution_count": 7,
     "metadata": {},
     "output_type": "execute_result"
    }
   ],
   "source": [
    "a.dtype"
   ]
  },
  {
   "cell_type": "markdown",
   "metadata": {
    "id": "M1p0W2Oo3hva"
   },
   "source": [
    "### Arreglos multi-dimensionales"
   ]
  },
  {
   "cell_type": "code",
   "execution_count": 8,
   "metadata": {
    "colab": {
     "base_uri": "https://localhost:8080/"
    },
    "id": "5FHvjZKk3hva",
    "outputId": "f2a9b1ba-f141-4fe2-db27-b46b1f5e032e"
   },
   "outputs": [
    {
     "data": {
      "text/plain": [
       "array([[ 1,  2,  3,  4,  5],\n",
       "       [ 6,  7,  8,  9, 10]])"
      ]
     },
     "execution_count": 8,
     "metadata": {},
     "output_type": "execute_result"
    }
   ],
   "source": [
    "b = np.array([[1, 2, 3, 4, 5], [6, 7, 8, 9, 10]])\n",
    "b"
   ]
  },
  {
   "cell_type": "code",
   "execution_count": 9,
   "metadata": {
    "colab": {
     "base_uri": "https://localhost:8080/"
    },
    "id": "q5a7gLbI3hva",
    "outputId": "91794185-fedf-4026-8d88-c553b1c8af1c"
   },
   "outputs": [
    {
     "name": "stdout",
     "output_type": "stream",
     "text": [
      "object type: <class 'numpy.ndarray'>\n",
      "size: 10\n",
      "ndim: 2\n",
      "shape: (2, 5)\n",
      "dtype: int32\n"
     ]
    }
   ],
   "source": [
    "print(\"object type: {0}\\n\"\n",
    "          \"size: {o.size}\\n\"\n",
    "          \"ndim: {o.ndim}\\n\"\n",
    "          \"shape: {o.shape}\\n\"\n",
    "          \"dtype: {o.dtype}\"\n",
    "          .format(type(b), o=b))"
   ]
  },
  {
   "cell_type": "markdown",
   "metadata": {
    "id": "eYSw3GPq3hva"
   },
   "source": [
    "### Métodos"
   ]
  },
  {
   "cell_type": "code",
   "execution_count": 10,
   "metadata": {
    "colab": {
     "base_uri": "https://localhost:8080/"
    },
    "id": "m_aZYLo-3hva",
    "outputId": "0852f9a3-b796-447f-cbdb-20469c36bdff"
   },
   "outputs": [
    {
     "data": {
      "text/plain": [
       "(1, 6, 3.5, 21)"
      ]
     },
     "execution_count": 10,
     "metadata": {},
     "output_type": "execute_result"
    }
   ],
   "source": [
    "a.min(), a.max(), a.mean(), a.sum()"
   ]
  },
  {
   "cell_type": "code",
   "execution_count": 11,
   "metadata": {
    "colab": {
     "base_uri": "https://localhost:8080/"
    },
    "id": "V-QZEjKG3hva",
    "outputId": "d7589326-6fad-48c0-c5f3-312905ace97b"
   },
   "outputs": [
    {
     "data": {
      "text/plain": [
       "array([[ 1,  2,  3,  4,  5],\n",
       "       [ 6,  7,  8,  9, 10]])"
      ]
     },
     "execution_count": 11,
     "metadata": {},
     "output_type": "execute_result"
    }
   ],
   "source": [
    "b"
   ]
  },
  {
   "cell_type": "code",
   "execution_count": 12,
   "metadata": {
    "colab": {
     "base_uri": "https://localhost:8080/"
    },
    "id": "LM5VuJeJ3hva",
    "outputId": "4fba7ff1-80a5-4cb4-e711-113f79e33224"
   },
   "outputs": [
    {
     "data": {
      "text/plain": [
       "55"
      ]
     },
     "execution_count": 12,
     "metadata": {},
     "output_type": "execute_result"
    }
   ],
   "source": [
    "b.sum()"
   ]
  },
  {
   "cell_type": "code",
   "execution_count": 13,
   "metadata": {
    "colab": {
     "base_uri": "https://localhost:8080/"
    },
    "id": "sdyhAQEp3hva",
    "outputId": "24793e48-785a-4eea-bc35-da84fddbdc97"
   },
   "outputs": [
    {
     "data": {
      "text/plain": [
       "array([ 7,  9, 11, 13, 15])"
      ]
     },
     "execution_count": 13,
     "metadata": {},
     "output_type": "execute_result"
    }
   ],
   "source": [
    "b.sum(axis=0)"
   ]
  },
  {
   "cell_type": "code",
   "execution_count": 14,
   "metadata": {
    "colab": {
     "base_uri": "https://localhost:8080/"
    },
    "id": "f-vScpF43hva",
    "outputId": "b714bc78-4d80-458d-b88f-a929bab86468"
   },
   "outputs": [
    {
     "data": {
      "text/plain": [
       "array([15, 40])"
      ]
     },
     "execution_count": 14,
     "metadata": {},
     "output_type": "execute_result"
    }
   ],
   "source": [
    "b.sum(axis=1)"
   ]
  },
  {
   "cell_type": "markdown",
   "metadata": {
    "id": "taAHG8pn3hva"
   },
   "source": [
    "## Operaciones con arreglos"
   ]
  },
  {
   "cell_type": "code",
   "execution_count": 15,
   "metadata": {
    "colab": {
     "base_uri": "https://localhost:8080/"
    },
    "id": "LaPJjsgU3hva",
    "outputId": "359ff6fc-cbb2-4797-da0f-1ff329ea242a"
   },
   "outputs": [
    {
     "data": {
      "text/plain": [
       "array([1, 2, 3, 4, 5, 6])"
      ]
     },
     "execution_count": 15,
     "metadata": {},
     "output_type": "execute_result"
    }
   ],
   "source": [
    "a"
   ]
  },
  {
   "cell_type": "code",
   "execution_count": 16,
   "metadata": {
    "colab": {
     "base_uri": "https://localhost:8080/"
    },
    "id": "zx8Lt-Hb3hva",
    "outputId": "620efedb-a0d5-4a4b-fb43-9952b568e6a9"
   },
   "outputs": [
    {
     "data": {
      "text/plain": [
       "array([-41, -40, -39, -38, -37, -36])"
      ]
     },
     "execution_count": 16,
     "metadata": {},
     "output_type": "execute_result"
    }
   ],
   "source": [
    "a - 42"
   ]
  },
  {
   "cell_type": "code",
   "execution_count": 17,
   "metadata": {
    "colab": {
     "base_uri": "https://localhost:8080/"
    },
    "id": "sxjHK9th3hva",
    "outputId": "9867150e-eca4-4246-cbc1-ceda8a5db3cf"
   },
   "outputs": [
    {
     "data": {
      "text/plain": [
       "array([13.36901522, 26.73803044, 40.10704566, 53.47606088, 66.8450761 ,\n",
       "       80.21409132])"
      ]
     },
     "execution_count": 17,
     "metadata": {},
     "output_type": "execute_result"
    }
   ],
   "source": [
    "a * 42 / np.pi"
   ]
  },
  {
   "cell_type": "code",
   "execution_count": 18,
   "metadata": {
    "colab": {
     "base_uri": "https://localhost:8080/"
    },
    "id": "zs4W07763hvb",
    "outputId": "75d9bbef-74c1-4ed1-d7a5-f46b925dac55"
   },
   "outputs": [
    {
     "data": {
      "text/plain": [
       "(array([  1.        ,   6.58088599,  19.81299075,  43.30806043,\n",
       "         79.43235917, 130.38703324]),\n",
       " array([  2.71828183,   7.3890561 ,  20.08553692,  54.59815003,\n",
       "        148.4131591 , 403.42879349]))"
      ]
     },
     "execution_count": 18,
     "metadata": {},
     "output_type": "execute_result"
    }
   ],
   "source": [
    "a**np.e, np.e**a"
   ]
  },
  {
   "cell_type": "code",
   "execution_count": 19,
   "metadata": {
    "colab": {
     "base_uri": "https://localhost:8080/"
    },
    "id": "rkxOV8Bm3hvb",
    "outputId": "356775f8-c5e5-4c4e-ab6b-5324dc7315d2"
   },
   "outputs": [
    {
     "data": {
      "text/plain": [
       "array([ 1,  4,  9, 16, 25, 36])"
      ]
     },
     "execution_count": 19,
     "metadata": {},
     "output_type": "execute_result"
    }
   ],
   "source": [
    "a * a  # element-wise"
   ]
  },
  {
   "cell_type": "code",
   "execution_count": 20,
   "metadata": {
    "colab": {
     "base_uri": "https://localhost:8080/"
    },
    "id": "IksJ5nZ03hvb",
    "outputId": "0c9ca0cf-96b6-4a32-dcf0-fbcf83f80d5c"
   },
   "outputs": [
    {
     "data": {
      "text/plain": [
       "91"
      ]
     },
     "execution_count": 20,
     "metadata": {},
     "output_type": "execute_result"
    }
   ],
   "source": [
    "a @ a  #dot"
   ]
  },
  {
   "cell_type": "markdown",
   "metadata": {
    "id": "r7Ik9TRY6MJt"
   },
   "source": [
    "## Para Matrices"
   ]
  },
  {
   "cell_type": "code",
   "execution_count": 21,
   "metadata": {
    "colab": {
     "base_uri": "https://localhost:8080/"
    },
    "id": "INoPm7_s5xJ4",
    "outputId": "21fec5d2-b06b-4185-8f5d-9b430be84a88"
   },
   "outputs": [
    {
     "data": {
      "text/plain": [
       "array([[  1,   4,   9,  16,  25],\n",
       "       [ 36,  49,  64,  81, 100]])"
      ]
     },
     "execution_count": 21,
     "metadata": {},
     "output_type": "execute_result"
    }
   ],
   "source": [
    "b*b #multiplica cada posición"
   ]
  },
  {
   "cell_type": "code",
   "execution_count": 22,
   "metadata": {
    "colab": {
     "base_uri": "https://localhost:8080/"
    },
    "id": "mknOB2075yL7",
    "outputId": "04f1df6c-779a-4b8c-8b35-8ef3a4d19f18"
   },
   "outputs": [
    {
     "data": {
      "text/plain": [
       "array([[ 55, 130],\n",
       "       [130, 330]])"
      ]
     },
     "execution_count": 22,
     "metadata": {},
     "output_type": "execute_result"
    }
   ],
   "source": [
    "b@b.T #producto matricial"
   ]
  },
  {
   "cell_type": "code",
   "execution_count": 23,
   "metadata": {
    "colab": {
     "base_uri": "https://localhost:8080/"
    },
    "id": "Vj6xsK166F-c",
    "outputId": "13e1e381-9374-4915-c464-c85dc55af563"
   },
   "outputs": [
    {
     "data": {
      "text/plain": [
       "array([[ 1,  6],\n",
       "       [ 2,  7],\n",
       "       [ 3,  8],\n",
       "       [ 4,  9],\n",
       "       [ 5, 10]])"
      ]
     },
     "execution_count": 23,
     "metadata": {},
     "output_type": "execute_result"
    }
   ],
   "source": [
    "b.T #transpuesta"
   ]
  },
  {
   "cell_type": "code",
   "execution_count": 24,
   "metadata": {
    "colab": {
     "base_uri": "https://localhost:8080/"
    },
    "id": "1T78rJta3hvb",
    "outputId": "7f1ba52e-4874-44b2-9cab-84e82e2e5a43"
   },
   "outputs": [
    {
     "data": {
      "text/plain": [
       "array([1, 2, 3, 4, 5, 6])"
      ]
     },
     "execution_count": 24,
     "metadata": {},
     "output_type": "execute_result"
    }
   ],
   "source": [
    "a"
   ]
  },
  {
   "cell_type": "code",
   "execution_count": 25,
   "metadata": {
    "colab": {
     "base_uri": "https://localhost:8080/"
    },
    "id": "S2lsW7tk3hvb",
    "outputId": "610a29b4-6e66-4fe3-bedd-263f6a0a2a25"
   },
   "outputs": [
    {
     "data": {
      "text/plain": [
       "array([ True,  True, False, False, False, False])"
      ]
     },
     "execution_count": 25,
     "metadata": {},
     "output_type": "execute_result"
    }
   ],
   "source": [
    "a < 3"
   ]
  },
  {
   "cell_type": "code",
   "execution_count": 26,
   "metadata": {
    "colab": {
     "base_uri": "https://localhost:8080/"
    },
    "id": "Nb73Gwv93hvb",
    "outputId": "0f273f35-52e9-49b7-94e7-755cdede2e92"
   },
   "outputs": [
    {
     "data": {
      "text/plain": [
       "array([False, False, False,  True, False, False])"
      ]
     },
     "execution_count": 26,
     "metadata": {},
     "output_type": "execute_result"
    }
   ],
   "source": [
    "a == 4"
   ]
  },
  {
   "cell_type": "code",
   "execution_count": 27,
   "metadata": {
    "colab": {
     "base_uri": "https://localhost:8080/"
    },
    "id": "byJLu0M03hvb",
    "outputId": "898b59cc-8d96-4a9f-f411-a3aedfd5764f"
   },
   "outputs": [
    {
     "data": {
      "text/plain": [
       "array([False, False, False,  True, False, False])"
      ]
     },
     "execution_count": 27,
     "metadata": {},
     "output_type": "execute_result"
    }
   ],
   "source": [
    "(a > 3) & (a < 5)  # bitwise AND"
   ]
  },
  {
   "cell_type": "code",
   "execution_count": 28,
   "metadata": {
    "colab": {
     "base_uri": "https://localhost:8080/"
    },
    "id": "LqKMi4wS3hvb",
    "outputId": "9f0035d9-e38a-4bc7-ed4f-6f25c762655e"
   },
   "outputs": [
    {
     "data": {
      "text/plain": [
       "array([ True,  True,  True, False, False, False])"
      ]
     },
     "execution_count": 28,
     "metadata": {},
     "output_type": "execute_result"
    }
   ],
   "source": [
    "a < np.array([2, 3, 5, 2, 1, 5])"
   ]
  },
  {
   "cell_type": "code",
   "execution_count": 29,
   "metadata": {
    "colab": {
     "base_uri": "https://localhost:8080/"
    },
    "id": "fT2uskNE3hvb",
    "outputId": "72f734c3-e2ad-4b76-e0ea-cdacf0d7110b"
   },
   "outputs": [
    {
     "data": {
      "text/plain": [
       "4"
      ]
     },
     "execution_count": 29,
     "metadata": {},
     "output_type": "execute_result"
    }
   ],
   "source": [
    "np.sum(a > 2) # Cuenta cuantos son True bajo esa condición"
   ]
  },
  {
   "cell_type": "markdown",
   "metadata": {
    "id": "J1mXoK4H3hvb"
   },
   "source": [
    "## Indexación"
   ]
  },
  {
   "cell_type": "code",
   "execution_count": 30,
   "metadata": {
    "colab": {
     "base_uri": "https://localhost:8080/"
    },
    "id": "OhXgi8en3hvb",
    "outputId": "b2cf3232-5c2c-4bd2-b2bc-64d1b38aee43"
   },
   "outputs": [
    {
     "data": {
      "text/plain": [
       "1"
      ]
     },
     "execution_count": 30,
     "metadata": {},
     "output_type": "execute_result"
    }
   ],
   "source": [
    "a[0]"
   ]
  },
  {
   "cell_type": "code",
   "execution_count": 31,
   "metadata": {
    "colab": {
     "base_uri": "https://localhost:8080/"
    },
    "id": "RoRRHoUd3hvb",
    "outputId": "d54bcd82-a53d-4590-9019-888a1dd90f97"
   },
   "outputs": [
    {
     "data": {
      "text/plain": [
       "6"
      ]
     },
     "execution_count": 31,
     "metadata": {},
     "output_type": "execute_result"
    }
   ],
   "source": [
    "a[-1]  # -1 refers to the last element"
   ]
  },
  {
   "cell_type": "code",
   "execution_count": 32,
   "metadata": {
    "colab": {
     "base_uri": "https://localhost:8080/"
    },
    "id": "6RHRTo4H3hvb",
    "outputId": "18388d3f-63cf-4de6-f853-8db62d3b2fd2"
   },
   "outputs": [
    {
     "data": {
      "text/plain": [
       "array([3, 6])"
      ]
     },
     "execution_count": 32,
     "metadata": {},
     "output_type": "execute_result"
    }
   ],
   "source": [
    "a[2:6:3]  # Python: [start:end:step]"
   ]
  },
  {
   "cell_type": "code",
   "execution_count": 33,
   "metadata": {
    "colab": {
     "base_uri": "https://localhost:8080/"
    },
    "id": "YnCWCgRl3hve",
    "outputId": "babdea02-ce5d-4fba-ac7d-5fd9d2d8a8be"
   },
   "outputs": [
    {
     "data": {
      "text/plain": [
       "array([6, 5, 4, 3, 2, 1])"
      ]
     },
     "execution_count": 33,
     "metadata": {},
     "output_type": "execute_result"
    }
   ],
   "source": [
    "a[::-1]  # reversing"
   ]
  },
  {
   "cell_type": "code",
   "execution_count": 34,
   "metadata": {
    "colab": {
     "base_uri": "https://localhost:8080/"
    },
    "id": "9tqeCd1W3hvf",
    "outputId": "66e27f6b-fdf0-41f9-9708-cc7ed010cecb"
   },
   "outputs": [
    {
     "data": {
      "text/plain": [
       "array([[ 6,  7,  8,  9, 10],\n",
       "       [ 1,  2,  3,  4,  5]])"
      ]
     },
     "execution_count": 34,
     "metadata": {},
     "output_type": "execute_result"
    }
   ],
   "source": [
    "b[::-1]  # reverses axis 0 voltea las filas"
   ]
  },
  {
   "cell_type": "markdown",
   "metadata": {
    "id": "19yR4Q_x3hvf"
   },
   "source": [
    "### Indexado en múltiples dimensiones"
   ]
  },
  {
   "cell_type": "code",
   "execution_count": 35,
   "metadata": {
    "colab": {
     "base_uri": "https://localhost:8080/"
    },
    "id": "8W7pEwd_3hvf",
    "outputId": "f8058fc3-a50c-43e9-fd69-2280ff4bdd66"
   },
   "outputs": [
    {
     "data": {
      "text/plain": [
       "array([[ 1,  2,  3,  4,  5],\n",
       "       [ 6,  7,  8,  9, 10]])"
      ]
     },
     "execution_count": 35,
     "metadata": {},
     "output_type": "execute_result"
    }
   ],
   "source": [
    "b"
   ]
  },
  {
   "cell_type": "code",
   "execution_count": 36,
   "metadata": {
    "colab": {
     "base_uri": "https://localhost:8080/"
    },
    "id": "RWAbvygF3hvf",
    "outputId": "1b51c2f1-c636-4833-ac06-aab8db502d82"
   },
   "outputs": [
    {
     "data": {
      "text/plain": [
       "3"
      ]
     },
     "execution_count": 36,
     "metadata": {},
     "output_type": "execute_result"
    }
   ],
   "source": [
    "b[0, 2]"
   ]
  },
  {
   "cell_type": "code",
   "execution_count": 37,
   "metadata": {
    "colab": {
     "base_uri": "https://localhost:8080/"
    },
    "id": "ZIXehx2O3hvf",
    "outputId": "e850c2a2-48b0-498c-9bc3-52f3316017de"
   },
   "outputs": [
    {
     "data": {
      "text/plain": [
       "array([2, 3, 4])"
      ]
     },
     "execution_count": 37,
     "metadata": {},
     "output_type": "execute_result"
    }
   ],
   "source": [
    "b[0, 1:4]"
   ]
  },
  {
   "cell_type": "code",
   "execution_count": 38,
   "metadata": {
    "colab": {
     "base_uri": "https://localhost:8080/"
    },
    "id": "xIv0xsfX3hvf",
    "outputId": "c88c2281-b687-485b-f4f9-59a0e1beccf5"
   },
   "outputs": [
    {
     "data": {
      "text/plain": [
       "array([[2, 3, 4],\n",
       "       [7, 8, 9]])"
      ]
     },
     "execution_count": 38,
     "metadata": {},
     "output_type": "execute_result"
    }
   ],
   "source": [
    "b[:, 1:4]"
   ]
  },
  {
   "cell_type": "code",
   "execution_count": 39,
   "metadata": {
    "colab": {
     "base_uri": "https://localhost:8080/"
    },
    "id": "AoDwZlDp3hvf",
    "outputId": "9c41d13a-928c-4cea-a531-fd511c8c6d7a"
   },
   "outputs": [
    {
     "data": {
      "text/plain": [
       "array([[ 3,  5],\n",
       "       [ 8, 10]])"
      ]
     },
     "execution_count": 39,
     "metadata": {},
     "output_type": "execute_result"
    }
   ],
   "source": [
    "b[:, 2:5:2]"
   ]
  },
  {
   "cell_type": "code",
   "execution_count": 40,
   "metadata": {
    "colab": {
     "base_uri": "https://localhost:8080/"
    },
    "id": "RgFMYH703hvf",
    "outputId": "24ff3514-2337-4371-b0f5-57a691b2fd42"
   },
   "outputs": [
    {
     "data": {
      "text/plain": [
       "array([[10,  9,  8,  7,  6],\n",
       "       [ 5,  4,  3,  2,  1]])"
      ]
     },
     "execution_count": 40,
     "metadata": {},
     "output_type": "execute_result"
    }
   ],
   "source": [
    "b[::-1, ::-1]"
   ]
  },
  {
   "cell_type": "markdown",
   "metadata": {
    "id": "oEhZJ7s43hvh"
   },
   "source": [
    "## Algunas funciones para crear arreglos"
   ]
  },
  {
   "cell_type": "code",
   "execution_count": 41,
   "metadata": {
    "colab": {
     "base_uri": "https://localhost:8080/"
    },
    "id": "tvb67HIG3hvh",
    "outputId": "be00c02c-b22a-42dd-daa7-35cf9e72058c"
   },
   "outputs": [
    {
     "data": {
      "text/plain": [
       "array([0, 1, 2, 3, 4, 5, 6])"
      ]
     },
     "execution_count": 41,
     "metadata": {},
     "output_type": "execute_result"
    }
   ],
   "source": [
    "np.arange(7)"
   ]
  },
  {
   "cell_type": "code",
   "execution_count": 42,
   "metadata": {
    "colab": {
     "base_uri": "https://localhost:8080/"
    },
    "id": "QUflGCtx3hvh",
    "outputId": "ddb7a81d-8915-4091-e4e1-e6cb89baebf2"
   },
   "outputs": [
    {
     "data": {
      "text/plain": [
       "array([1., 1., 1., 1., 1., 1., 1., 1., 1., 1.])"
      ]
     },
     "execution_count": 42,
     "metadata": {},
     "output_type": "execute_result"
    }
   ],
   "source": [
    "np.ones(10)"
   ]
  },
  {
   "cell_type": "code",
   "execution_count": 43,
   "metadata": {
    "colab": {
     "base_uri": "https://localhost:8080/"
    },
    "id": "QaqdmRXk3hvh",
    "outputId": "f56dbec2-833c-4ec7-8123-90a920437299"
   },
   "outputs": [
    {
     "data": {
      "text/plain": [
       "array([0., 0., 0., 0., 0.])"
      ]
     },
     "execution_count": 43,
     "metadata": {},
     "output_type": "execute_result"
    }
   ],
   "source": [
    "np.zeros(5)"
   ]
  },
  {
   "cell_type": "code",
   "execution_count": 44,
   "metadata": {
    "colab": {
     "base_uri": "https://localhost:8080/"
    },
    "id": "I2891AUN3hvh",
    "outputId": "a1b31af9-0edb-4576-f60e-75d4a5e11462"
   },
   "outputs": [
    {
     "data": {
      "text/plain": [
       "array([[0., 0., 0., 0.],\n",
       "       [0., 0., 0., 0.]])"
      ]
     },
     "execution_count": 44,
     "metadata": {},
     "output_type": "execute_result"
    }
   ],
   "source": [
    "np.zeros((2, 4))"
   ]
  },
  {
   "cell_type": "code",
   "execution_count": 45,
   "metadata": {
    "colab": {
     "base_uri": "https://localhost:8080/"
    },
    "id": "PEcNJkOD3hvh",
    "outputId": "d5f2d203-a1b2-463b-a6b4-10f499a6edbd"
   },
   "outputs": [
    {
     "data": {
      "text/plain": [
       "array([1.69109959e-306, 1.86921415e-306, 4.45057637e-308, 1.42419530e-306,\n",
       "       7.56603881e-307, 9.34598925e-307, 1.60220393e-306, 1.11255866e-306,\n",
       "       8.90098127e-307, 7.56603881e-307, 7.56599807e-307, 9.34607074e-307,\n",
       "       1.11260416e-306, 8.90051274e-307, 9.34598925e-307, 1.37961913e-306,\n",
       "       1.37961438e-306, 4.45057637e-308, 1.20160711e-306, 3.75602390e-317])"
      ]
     },
     "execution_count": 45,
     "metadata": {},
     "output_type": "execute_result"
    }
   ],
   "source": [
    "np.empty(20)"
   ]
  },
  {
   "cell_type": "code",
   "execution_count": 46,
   "metadata": {
    "colab": {
     "base_uri": "https://localhost:8080/"
    },
    "id": "QxY2pufu3hvh",
    "outputId": "5a82aa81-8e25-49f9-9ca4-3d1fe7e54478"
   },
   "outputs": [
    {
     "data": {
      "text/plain": [
       "array([[1., 0., 0., 0., 0.],\n",
       "       [0., 1., 0., 0., 0.],\n",
       "       [0., 0., 1., 0., 0.],\n",
       "       [0., 0., 0., 1., 0.],\n",
       "       [0., 0., 0., 0., 1.]])"
      ]
     },
     "execution_count": 46,
     "metadata": {},
     "output_type": "execute_result"
    }
   ],
   "source": [
    "np.eye(5) #identidad"
   ]
  },
  {
   "cell_type": "code",
   "execution_count": 47,
   "metadata": {
    "colab": {
     "base_uri": "https://localhost:8080/"
    },
    "id": "xD_IUEs53hvh",
    "outputId": "85937b46-19f7-4eef-c9e5-2b02d5331eb1"
   },
   "outputs": [
    {
     "data": {
      "text/plain": [
       "array([1.        , 1.11111111, 1.22222222, 1.33333333, 1.44444444,\n",
       "       1.55555556, 1.66666667, 1.77777778, 1.88888889, 2.        ])"
      ]
     },
     "execution_count": 47,
     "metadata": {},
     "output_type": "execute_result"
    }
   ],
   "source": [
    "np.linspace(1, 2, 10)"
   ]
  },
  {
   "cell_type": "code",
   "execution_count": 48,
   "metadata": {
    "colab": {
     "base_uri": "https://localhost:8080/"
    },
    "id": "7wjL51dX3hvh",
    "outputId": "f5c6e251-eecb-49ec-c140-d51a608ce6f4"
   },
   "outputs": [
    {
     "data": {
      "text/plain": [
       "array([[1, 1, 1, 1, 1],\n",
       "       [1, 1, 1, 1, 1]])"
      ]
     },
     "execution_count": 48,
     "metadata": {},
     "output_type": "execute_result"
    }
   ],
   "source": [
    "np.ones_like(b)"
   ]
  },
  {
   "cell_type": "code",
   "execution_count": 49,
   "metadata": {
    "colab": {
     "base_uri": "https://localhost:8080/"
    },
    "id": "R7X8i5Pd3hvh",
    "outputId": "b6b342c5-cfb2-4fee-c237-08adb85d68a0"
   },
   "outputs": [
    {
     "data": {
      "text/plain": [
       "array([1, 1, 1, 1, 1, 1, 1, 1, 1, 1], dtype=int16)"
      ]
     },
     "execution_count": 49,
     "metadata": {},
     "output_type": "execute_result"
    }
   ],
   "source": [
    "np.ones(10, dtype='i2')"
   ]
  },
  {
   "cell_type": "markdown",
   "metadata": {
    "id": "EfpHi75f3hvh"
   },
   "source": [
    "### Números aleatorios"
   ]
  },
  {
   "cell_type": "code",
   "execution_count": 50,
   "metadata": {
    "id": "10wgSNL73hvh"
   },
   "outputs": [],
   "source": [
    "rng = np.random.default_rng(42)  # always create a generator with a seed!"
   ]
  },
  {
   "cell_type": "code",
   "execution_count": 51,
   "metadata": {
    "id": "ULEC6rP83hvh"
   },
   "outputs": [
    {
     "data": {
      "text/plain": [
       "array([[1, 7, 6, 4, 4, 8, 1, 7, 2, 1, 5, 9, 7, 7, 7, 8, 5, 2, 8, 5],\n",
       "       [5, 4, 2, 9, 8, 6, 4, 8, 5, 4, 5, 3, 1, 5, 8, 1, 8, 8, 3, 6]],\n",
       "      dtype=int64)"
      ]
     },
     "execution_count": 51,
     "metadata": {},
     "output_type": "execute_result"
    }
   ],
   "source": [
    "rng.integers(1, 10, (2, 20))"
   ]
  },
  {
   "cell_type": "code",
   "execution_count": 52,
   "metadata": {
    "id": "gmPLmZSI3hvh"
   },
   "outputs": [
    {
     "data": {
      "text/plain": [
       "array([[0.75808774, 0.35452597, 0.97069802, 0.89312112],\n",
       "       [0.7783835 , 0.19463871, 0.466721  , 0.04380377],\n",
       "       [0.15428949, 0.68304895, 0.74476216, 0.96750973]])"
      ]
     },
     "execution_count": 52,
     "metadata": {},
     "output_type": "execute_result"
    }
   ],
   "source": [
    "rng.random((3, 4))"
   ]
  },
  {
   "cell_type": "code",
   "execution_count": 53,
   "metadata": {
    "id": "b1gBtJd13hvh"
   },
   "outputs": [
    {
     "data": {
      "text/plain": [
       "array([1.62912679, 1.85229853, 2.34777906, 0.9473568 , 0.64960753,\n",
       "       2.37852463, 1.13454675, 3.34906997, 2.18575959, 4.16339098])"
      ]
     },
     "execution_count": 53,
     "metadata": {},
     "output_type": "execute_result"
    }
   ],
   "source": [
    "rng.uniform(0, 5, 10)"
   ]
  },
  {
   "cell_type": "markdown",
   "metadata": {
    "id": "AwfFeAsN3hvi"
   },
   "source": [
    "## Universal Functions (`ufunc`)\n",
    "\n",
    "NumPy `ufunc`s:\n",
    "- Math operations (`add()`, `subtract()`, `square()`, `log10()`, ...)\n",
    "- Trigonometric functions (`sin()`, `cos()`, `tan()`, `deg2rad()`, ...)\n",
    "- Bit-twiddling functions (`bitwise_and()`, `right_shift()`, ...)\n",
    "- Comparison functions (`greater()`, `less_equal()`, `fmax()`, ...)\n",
    "- Floating functions (`isnan()`, `isinf()`, `floor()`, ...)"
   ]
  },
  {
   "cell_type": "code",
   "execution_count": 54,
   "metadata": {
    "id": "qw0cM_RrBCd4"
   },
   "outputs": [
    {
     "data": {
      "text/plain": [
       "array([56.76378229, 39.22142028,  7.91698444, 58.95583463,  4.56944376,\n",
       "       11.2991057 , 27.08922427, 80.27992112,  0.50646015, 71.8946937 ])"
      ]
     },
     "execution_count": 54,
     "metadata": {},
     "output_type": "execute_result"
    }
   ],
   "source": [
    "m = np.random.uniform(0, 90, 10)\n",
    "m"
   ]
  },
  {
   "cell_type": "code",
   "execution_count": 55,
   "metadata": {
    "id": "iWbTiz4uBPWJ"
   },
   "outputs": [
    {
     "data": {
      "text/plain": [
       "array([0.54809205, 0.77470815, 0.99046868, 0.51569865, 0.99682151,\n",
       "       0.98061772, 0.89029846, 0.1688348 , 0.99996093, 0.31076446])"
      ]
     },
     "execution_count": 55,
     "metadata": {},
     "output_type": "execute_result"
    }
   ],
   "source": [
    "np.cos(np.deg2rad(m))"
   ]
  },
  {
   "cell_type": "code",
   "execution_count": 56,
   "metadata": {
    "id": "jzCapCdfBHGx"
   },
   "outputs": [
    {
     "data": {
      "text/plain": [
       "array([ 1.75407133,  1.59352332,  0.89855979,  1.77052679,  0.65986334,\n",
       "        1.05304407,  1.43279657,  1.90460694, -0.29545472,  1.85669684])"
      ]
     },
     "execution_count": 56,
     "metadata": {},
     "output_type": "execute_result"
    }
   ],
   "source": [
    "np.log10(m)"
   ]
  },
  {
   "cell_type": "code",
   "execution_count": 57,
   "metadata": {
    "id": "urhBqSlG3hvi"
   },
   "outputs": [
    {
     "data": {
      "text/plain": [
       "numpy.ufunc"
      ]
     },
     "execution_count": 57,
     "metadata": {},
     "output_type": "execute_result"
    }
   ],
   "source": [
    "type(np.cos)"
   ]
  },
  {
   "cell_type": "markdown",
   "metadata": {
    "id": "q6AzmlPU3hvj"
   },
   "source": [
    "## Copiar información"
   ]
  },
  {
   "cell_type": "code",
   "execution_count": 58,
   "metadata": {
    "id": "3HsdnuBe3hvj"
   },
   "outputs": [
    {
     "data": {
      "text/plain": [
       "array([0, 1, 2, 3, 4, 5, 6, 7, 8, 9])"
      ]
     },
     "execution_count": 58,
     "metadata": {},
     "output_type": "execute_result"
    }
   ],
   "source": [
    "original = np.arange(10)\n",
    "original"
   ]
  },
  {
   "cell_type": "code",
   "execution_count": 59,
   "metadata": {
    "id": "9RpMg1dH3hvj"
   },
   "outputs": [
    {
     "data": {
      "text/plain": [
       "array([ 0,  1, 99,  3,  4,  5,  6,  7,  8,  9])"
      ]
     },
     "execution_count": 59,
     "metadata": {},
     "output_type": "execute_result"
    }
   ],
   "source": [
    "ref_to_original = original\n",
    "ref_to_original[2] = 99\n",
    "original"
   ]
  },
  {
   "cell_type": "code",
   "execution_count": 60,
   "metadata": {
    "id": "r-R0kQgK3hvj"
   },
   "outputs": [
    {
     "data": {
      "text/plain": [
       "5"
      ]
     },
     "execution_count": 60,
     "metadata": {},
     "output_type": "execute_result"
    }
   ],
   "source": [
    "single_value = original[5]\n",
    "single_value"
   ]
  },
  {
   "cell_type": "code",
   "execution_count": 61,
   "metadata": {
    "id": "m3XuRcTL3hvj"
   },
   "outputs": [
    {
     "data": {
      "text/plain": [
       "array([ 0,  1, 99,  3,  4,  5,  6,  7,  8,  9])"
      ]
     },
     "execution_count": 61,
     "metadata": {},
     "output_type": "execute_result"
    }
   ],
   "source": [
    "single_value = 9999\n",
    "original"
   ]
  },
  {
   "cell_type": "markdown",
   "metadata": {
    "id": "6NKHLAbo3hvj"
   },
   "source": [
    "### Porciones de un arreglo/matriz"
   ]
  },
  {
   "cell_type": "code",
   "execution_count": 62,
   "metadata": {
    "id": "43NSuDJa3hvj"
   },
   "outputs": [
    {
     "data": {
      "text/plain": [
       "array([0, 1, 2, 3, 4, 5, 6, 7, 8, 9])"
      ]
     },
     "execution_count": 62,
     "metadata": {},
     "output_type": "execute_result"
    }
   ],
   "source": [
    "original = np.arange(10)\n",
    "original"
   ]
  },
  {
   "cell_type": "code",
   "execution_count": 63,
   "metadata": {
    "id": "NOTW-nvD3hvj"
   },
   "outputs": [
    {
     "data": {
      "text/plain": [
       "array([2, 3])"
      ]
     },
     "execution_count": 63,
     "metadata": {},
     "output_type": "execute_result"
    }
   ],
   "source": [
    "a_slice = original[2:4]    # slices return (memory) views\n",
    "a_slice"
   ]
  },
  {
   "cell_type": "code",
   "execution_count": 64,
   "metadata": {
    "id": "629Dp5FR3hvj"
   },
   "outputs": [
    {
     "data": {
      "text/plain": [
       "array([   0,    1,    2, 1000,    4,    5,    6,    7,    8,    9])"
      ]
     },
     "execution_count": 64,
     "metadata": {},
     "output_type": "execute_result"
    }
   ],
   "source": [
    "a_slice[1] = 1000  # changing elements of `original` are actual changes to `a_slice`\n",
    "original"
   ]
  },
  {
   "cell_type": "code",
   "execution_count": 65,
   "metadata": {
    "id": "O8ttA6pZ3hvj"
   },
   "outputs": [
    {
     "data": {
      "text/plain": [
       "array([  0,   1,   2, 101, 102, 103,   6,   7,   8,   9])"
      ]
     },
     "execution_count": 65,
     "metadata": {},
     "output_type": "execute_result"
    }
   ],
   "source": [
    "original[3:6] = [101, 102, 103]   # changing multiple elements at once\n",
    "original"
   ]
  },
  {
   "cell_type": "markdown",
   "metadata": {
    "id": "ZlXf7wJl3hvj"
   },
   "source": [
    "### Forzar copia"
   ]
  },
  {
   "cell_type": "code",
   "execution_count": 66,
   "metadata": {
    "id": "yU_KxvEf3hvj"
   },
   "outputs": [
    {
     "data": {
      "text/plain": [
       "array([  0,   1,   2, 101, 102, 103,   6,   7,   8,   9])"
      ]
     },
     "execution_count": 66,
     "metadata": {},
     "output_type": "execute_result"
    }
   ],
   "source": [
    "original"
   ]
  },
  {
   "cell_type": "code",
   "execution_count": 67,
   "metadata": {
    "id": "R52B2p3D3hvj"
   },
   "outputs": [],
   "source": [
    "a_copy = original.copy()"
   ]
  },
  {
   "cell_type": "code",
   "execution_count": 68,
   "metadata": {
    "id": "UZPTmxCc3hvj"
   },
   "outputs": [
    {
     "data": {
      "text/plain": [
       "array([  0,   1,  42, 101, 102, 103,   6,   7,   8,   9])"
      ]
     },
     "execution_count": 68,
     "metadata": {},
     "output_type": "execute_result"
    }
   ],
   "source": [
    "a_copy[2] = 42\n",
    "a_copy"
   ]
  },
  {
   "cell_type": "code",
   "execution_count": 69,
   "metadata": {
    "id": "M9zPgPzz3hvj"
   },
   "outputs": [
    {
     "data": {
      "text/plain": [
       "array([  0,   1,   2, 101, 102, 103,   6,   7,   8,   9])"
      ]
     },
     "execution_count": 69,
     "metadata": {},
     "output_type": "execute_result"
    }
   ],
   "source": [
    "original"
   ]
  },
  {
   "cell_type": "markdown",
   "metadata": {
    "id": "RiOCqmroew9-"
   },
   "source": [
    "![Matplotlib](http://upload.wikimedia.org/wikipedia/en/5/56/Matplotlib_logo.svg)"
   ]
  },
  {
   "cell_type": "code",
   "execution_count": 70,
   "metadata": {
    "id": "nBRusldrew9-"
   },
   "outputs": [],
   "source": [
    "import matplotlib.pyplot as plt"
   ]
  },
  {
   "cell_type": "markdown",
   "metadata": {
    "id": "zKVUmTd0ew9-"
   },
   "source": [
    "## Graficación Básica (Agregar colores, formatos, etc)"
   ]
  },
  {
   "cell_type": "code",
   "execution_count": 71,
   "metadata": {
    "colab": {
     "base_uri": "https://localhost:8080/",
     "height": 309
    },
    "id": "eILM3aa_ew9-",
    "outputId": "cda7addf-ec59-46b2-8c13-ca59cf5c3e5d"
   },
   "outputs": [
    {
     "data": {
      "text/plain": [
       "[<matplotlib.lines.Line2D at 0x2aeb7cbfb50>]"
      ]
     },
     "execution_count": 71,
     "metadata": {},
     "output_type": "execute_result"
    },
    {
     "data": {
      "image/png": "[encoded data removed]",
      "text/plain": [
       "<Figure size 300x300 with 1 Axes>"
      ]
     },
     "metadata": {},
     "output_type": "display_data"
    }
   ],
   "source": [
    "x = np.linspace(0, 1, 250) # 250 numbers from 0 to 1\n",
    "plt.figure(figsize=(3,3))\n",
    "plt.plot(x, x**2)"
   ]
  },
  {
   "cell_type": "code",
   "execution_count": 72,
   "metadata": {
    "colab": {
     "base_uri": "https://localhost:8080/",
     "height": 328
    },
    "id": "q2GeAU_oew9_",
    "outputId": "57039f1f-34c4-4913-f6f0-e19194a30150"
   },
   "outputs": [
    {
     "data": {
      "image/png": "[encoded data removed]",
      "text/plain": [
       "<Figure size 300x300 with 1 Axes>"
      ]
     },
     "metadata": {},
     "output_type": "display_data"
    }
   ],
   "source": [
    "t = np.linspace(0, 2 * np.pi, 50)   # 50 points between 0 and 2π\n",
    "plt.figure(figsize=(3,3),constrained_layout=True)\n",
    "plt.plot(t, np.sin(t), '--');"
   ]
  },
  {
   "cell_type": "code",
   "execution_count": 73,
   "metadata": {
    "colab": {
     "base_uri": "https://localhost:8080/",
     "height": 328
    },
    "id": "dVGa0NhIew9_",
    "outputId": "7e08cd62-d7a9-4d6f-cdf8-d9441a650980"
   },
   "outputs": [
    {
     "data": {
      "image/png": "[encoded data removed]",
      "text/plain": [
       "<Figure size 300x300 with 1 Axes>"
      ]
     },
     "metadata": {},
     "output_type": "display_data"
    }
   ],
   "source": [
    "x = np.linspace(0, 1, 100)\n",
    "\n",
    "plt.figure(figsize=(3,3),constrained_layout=True)\n",
    "\n",
    "for n in range(9):\n",
    "    # C<N> el el enésimo color de la serie de Matplotlib\n",
    "    plt.plot(x**(n + 1), color=f'C{n}')"
   ]
  },
  {
   "cell_type": "code",
   "execution_count": 74,
   "metadata": {
    "colab": {
     "base_uri": "https://localhost:8080/",
     "height": 563
    },
    "id": "ORQ9h32kew9_",
    "outputId": "1f7e560d-47f5-4ed4-cde6-7dc1e1d14b62"
   },
   "outputs": [
    {
     "name": "stderr",
     "output_type": "stream",
     "text": [
      "C:\\Users\\Lenovo\\AppData\\Local\\Temp\\ipykernel_21076\\1993427545.py:3: RuntimeWarning: invalid value encountered in divide\n",
      "  plt.plot(x, np.sin(50*x**3)/(x))\n"
     ]
    },
    {
     "data": {
      "text/plain": [
       "(0.0, 1.0)"
      ]
     },
     "execution_count": 74,
     "metadata": {},
     "output_type": "execute_result"
    },
    {
     "data": {
      "image/png": "[encoded data removed]",
      "text/plain": [
       "<Figure size 640x480 with 1 Axes>"
      ]
     },
     "metadata": {},
     "output_type": "display_data"
    }
   ],
   "source": [
    "plt.figure(constrained_layout=True)\n",
    "\n",
    "plt.plot(x, np.sin(50*x**3)/(x))\n",
    "plt.xlim(0, 1)\n"
   ]
  },
  {
   "cell_type": "markdown",
   "metadata": {
    "id": "dKhjQWnpew9_"
   },
   "source": [
    "Revisar colores de plots en:<br>\n",
    "https://matplotlib.org/stable/gallery/color/named_colors.html"
   ]
  },
  {
   "cell_type": "markdown",
   "metadata": {
    "id": "YDn7tZrUew9_"
   },
   "source": [
    "## Formato de ejes, leyenda y grilla de fondo"
   ]
  },
  {
   "cell_type": "code",
   "execution_count": 75,
   "metadata": {
    "colab": {
     "base_uri": "https://localhost:8080/",
     "height": 346
    },
    "id": "_cSsKneiew9_",
    "outputId": "7f7bc7a7-4dd1-4658-8d63-d0a1251a943e"
   },
   "outputs": [
    {
     "data": {
      "text/plain": [
       "(0.0, 6.283185307179586)"
      ]
     },
     "execution_count": 75,
     "metadata": {},
     "output_type": "execute_result"
    },
    {
     "data": {
      "image/png": "[encoded data removed]",
      "text/plain": [
       "<Figure size 300x300 with 1 Axes>"
      ]
     },
     "metadata": {},
     "output_type": "display_data"
    }
   ],
   "source": [
    "plt.figure(figsize=(3,3),constrained_layout=True)\n",
    "plt.title('Axes with labels')\n",
    "plt.plot(t, np.sin(t))\n",
    "\n",
    "plt.xlabel('time [s]')\n",
    "plt.ylabel('Speed [km/s]')\n",
    "\n",
    "plt.ylim(-1.1, 1.1)\n",
    "plt.xlim(0, 2*np.pi)"
   ]
  },
  {
   "cell_type": "code",
   "execution_count": 76,
   "metadata": {
    "colab": {
     "base_uri": "https://localhost:8080/",
     "height": 328
    },
    "id": "I6tuLUwkew-A",
    "outputId": "f78135c6-428e-4bf0-f574-0f42a41f1888"
   },
   "outputs": [
    {
     "data": {
      "image/png": "[encoded data removed]",
      "text/plain": [
       "<Figure size 300x300 with 1 Axes>"
      ]
     },
     "metadata": {},
     "output_type": "display_data"
    }
   ],
   "source": [
    "plt.figure(figsize=(3,3),constrained_layout=True)\n",
    "\n",
    "plt.plot(t, np.sin(t))\n",
    "\n",
    "title_font = {'fontsize': 18, 'fontweight': 'bold', 'family': 'serif'}\n",
    "axes_font = {'fontsize': 13}\n",
    "\n",
    "plt.xlabel('t / s', axes_font)\n",
    "plt.ylabel('U / V', axes_font)\n",
    "plt.title('Always label your plots!', title_font);"
   ]
  },
  {
   "cell_type": "code",
   "execution_count": 77,
   "metadata": {
    "colab": {
     "base_uri": "https://localhost:8080/",
     "height": 346
    },
    "id": "NPGxJ88cew-A",
    "outputId": "9e069233-cc13-4adf-9c85-34f19430107a"
   },
   "outputs": [
    {
     "data": {
      "text/plain": [
       "<matplotlib.legend.Legend at 0x2aeb858d000>"
      ]
     },
     "execution_count": 77,
     "metadata": {},
     "output_type": "execute_result"
    },
    {
     "data": {
      "image/png": "[encoded data removed]",
      "text/plain": [
       "<Figure size 300x300 with 1 Axes>"
      ]
     },
     "metadata": {},
     "output_type": "display_data"
    }
   ],
   "source": [
    "plt.figure(figsize=(3,3),constrained_layout=True)\n",
    "\n",
    "plt.plot(t, np.sin(t), label=r'$\\sin(t)$')\n",
    "plt.plot(t, np.cos(t), label=r'$\\cos(t)$')\n",
    "plt.legend()"
   ]
  },
  {
   "cell_type": "code",
   "execution_count": 78,
   "metadata": {
    "colab": {
     "base_uri": "https://localhost:8080/",
     "height": 328
    },
    "id": "UXmUGrKXew-A",
    "outputId": "58ca5615-2d00-4878-82c2-9784ae3beef3"
   },
   "outputs": [
    {
     "data": {
      "image/png": "[encoded data removed]",
      "text/plain": [
       "<Figure size 300x300 with 1 Axes>"
      ]
     },
     "metadata": {},
     "output_type": "display_data"
    }
   ],
   "source": [
    "plt.figure(figsize=(3,3),constrained_layout=True)\n",
    "plt.plot(t, np.sin(t))\n",
    "plt.grid()"
   ]
  },
  {
   "cell_type": "markdown",
   "metadata": {
    "id": "aLumFN0Cew-A"
   },
   "source": [
    "# Ejercicio:\n",
    "\n",
    "Realizar en un mismo plot las gráficas de $x^2$, $x^4$ y $x^6$. Incluir una leyenda, formato de ejes de y grilla de fondo en el intervalo de 0 a 1. Cada gráfica puede tener un estilo de línea diferente.\n",
    "\n",
    "Ver: https://matplotlib.org/stable/api/markers_api.html"
   ]
  },
  {
   "cell_type": "markdown",
   "metadata": {
    "id": "jrMjuFD0ew-A"
   },
   "source": [
    "## Otras funcionalidades"
   ]
  },
  {
   "cell_type": "code",
   "execution_count": 79,
   "metadata": {
    "colab": {
     "base_uri": "https://localhost:8080/",
     "height": 508
    },
    "id": "1faxgY7Jew-A",
    "outputId": "7fc1cfe9-ac95-4170-b3d8-f6bdfe33b7c0"
   },
   "outputs": [
    {
     "data": {
      "image/png": "[encoded data removed]",
      "text/plain": [
       "<Figure size 640x480 with 1 Axes>"
      ]
     },
     "metadata": {},
     "output_type": "display_data"
    }
   ],
   "source": [
    "plt.figure(constrained_layout=True)\n",
    "\n",
    "x = np.linspace(0, 10)\n",
    "# x = np.logspace(-1, 2, 100)\n",
    "\n",
    "plt.plot(x, np.exp(-x))\n",
    "#Poner escala logarítmica\n",
    "plt.yscale('log')\n",
    "# plt.xscale('log')"
   ]
  },
  {
   "cell_type": "code",
   "execution_count": 80,
   "metadata": {
    "colab": {
     "base_uri": "https://localhost:8080/",
     "height": 328
    },
    "id": "78r-0cIWew-A",
    "outputId": "66f16d24-9d2e-4e39-e1a4-665b7a027f6d"
   },
   "outputs": [
    {
     "data": {
      "image/png": "[encoded data removed]",
      "text/plain": [
       "<Figure size 300x300 with 1 Axes>"
      ]
     },
     "metadata": {},
     "output_type": "display_data"
    }
   ],
   "source": [
    "x = np.linspace(0, 2*np.pi, 10)\n",
    "\n",
    "rng = np.random.default_rng(0)\n",
    "errX = rng.uniform(0.1, 0.4, 10)\n",
    "errY = rng.uniform(0.1, 0.4, 10)\n",
    "\n",
    "plt.figure(figsize=(3,3),constrained_layout=True)\n",
    "\n",
    "plt.errorbar(x, x, xerr=0.4, yerr=errY, linestyle='', capsize=2, marker='.');"
   ]
  },
  {
   "cell_type": "code",
   "execution_count": 81,
   "metadata": {
    "colab": {
     "base_uri": "https://localhost:8080/",
     "height": 430
    },
    "id": "iEew7bsIew-B",
    "outputId": "e595d1af-8a61-401c-ee1d-08071b615464"
   },
   "outputs": [
    {
     "data": {
      "image/png": "[encoded data removed]",
      "text/plain": [
       "<Figure size 640x480 with 1 Axes>"
      ]
     },
     "metadata": {},
     "output_type": "display_data"
    }
   ],
   "source": [
    "x = np.linspace(-10, 10)\n",
    "y = 1 / (1 + np.exp(x))\n",
    "plt.plot(x, y)\n",
    "#poner texto en la gráfica\n",
    "plt.annotate(\n",
    "    'foo bar', (x[20], y[20]), (50, 5),\n",
    "    textcoords='offset points',\n",
    "    arrowprops={'arrowstyle': '->'})\n",
    "plt.grid()"
   ]
  },
  {
   "cell_type": "code",
   "execution_count": 82,
   "metadata": {
    "colab": {
     "base_uri": "https://localhost:8080/",
     "height": 508
    },
    "id": "gXpjYhzpew-B",
    "outputId": "474faa14-62e2-46a2-c8db-936086a9e794"
   },
   "outputs": [
    {
     "data": {
      "image/png": "[encoded data removed]",
      "text/plain": [
       "<Figure size 640x480 with 1 Axes>"
      ]
     },
     "metadata": {},
     "output_type": "display_data"
    }
   ],
   "source": [
    "r = np.linspace(0, 10, 5000)\n",
    "# r = np.linspace(0, 10, 1000)\n",
    "theta = 2*np.pi*r\n",
    "\n",
    "plt.figure(constrained_layout=True)\n",
    "\n",
    "plt.polar(theta, r);"
   ]
  },
  {
   "cell_type": "markdown",
   "metadata": {
    "id": "zrvRGlDmew-B"
   },
   "source": [
    "## Histogramas"
   ]
  },
  {
   "cell_type": "code",
   "execution_count": 83,
   "metadata": {
    "colab": {
     "base_uri": "https://localhost:8080/",
     "height": 508
    },
    "id": "etAPSPhIew-B",
    "outputId": "4bbf05a3-e398-4941-a69c-554a786bea41"
   },
   "outputs": [
    {
     "data": {
      "image/png": "[encoded data removed]",
      "text/plain": [
       "<Figure size 640x480 with 1 Axes>"
      ]
     },
     "metadata": {},
     "output_type": "display_data"
    }
   ],
   "source": [
    "rng = np.random.default_rng(0)\n",
    "\n",
    "#da una distribución gaussiana (centrada en 0, dispersión estándar de 1 y 1000 puntos)\n",
    "x = rng.normal(0, 1, 1000)\n",
    "\n",
    "plt.figure(constrained_layout=True)\n",
    "plt.hist(x, bins=25);"
   ]
  },
  {
   "cell_type": "code",
   "execution_count": 84,
   "metadata": {
    "colab": {
     "base_uri": "https://localhost:8080/",
     "height": 328
    },
    "id": "8lHt59dVew-B",
    "outputId": "5eb6ce58-111d-4291-82ba-9b11ec30108b"
   },
   "outputs": [
    {
     "data": {
      "image/png": "[encoded data removed]",
      "text/plain": [
       "<Figure size 300x300 with 1 Axes>"
      ]
     },
     "metadata": {},
     "output_type": "display_data"
    }
   ],
   "source": [
    "x1 = rng.normal(-1, 1, 1000)\n",
    "x2 = rng.normal(1, 1, 1000)\n",
    "\n",
    "bin_edges = np.linspace(-6, 6, 51)  # 50 bins between -6 and 6\n",
    "\n",
    "plt.figure(figsize=(3,3),constrained_layout=True)\n",
    "\n",
    "#histtype=step hace que solo se delinee el borde\n",
    "plt.hist(x1, bins=bin_edges, histtype='step', label='x1')\n",
    "plt.hist(x2, bins=bin_edges, histtype='step', label='x2')\n",
    "\n",
    "plt.legend();"
   ]
  },
  {
   "cell_type": "code",
   "execution_count": 85,
   "metadata": {
    "colab": {
     "base_uri": "https://localhost:8080/",
     "height": 508
    },
    "id": "1fQsJxigew-B",
    "outputId": "f8790f31-a190-4521-ba1c-1ea579c4037c"
   },
   "outputs": [
    {
     "data": {
      "image/png": "[encoded data removed]",
      "text/plain": [
       "<Figure size 640x480 with 2 Axes>"
      ]
     },
     "metadata": {},
     "output_type": "display_data"
    }
   ],
   "source": [
    "mean = np.array([2, 1])\n",
    "cov = np.array(\n",
    "    [[9, 2],\n",
    "     [2, 4]]\n",
    ")\n",
    "\n",
    "x, y = rng.multivariate_normal(mean, cov, size=10000).T\n",
    "\n",
    "plt.figure(constrained_layout=True)\n",
    "\n",
    "plt.hist2d(x, y, bins=50)\n",
    "\n",
    "plt.colorbar(label='Counts');"
   ]
  },
  {
   "cell_type": "code",
   "execution_count": 86,
   "metadata": {
    "colab": {
     "base_uri": "https://localhost:8080/",
     "height": 508
    },
    "id": "RQEVosm1ew-C",
    "outputId": "2d453c79-6de2-426d-8cce-90c510111d51"
   },
   "outputs": [
    {
     "data": {
      "image/png": "[encoded data removed]",
      "text/plain": [
       "<Figure size 640x480 with 2 Axes>"
      ]
     },
     "metadata": {},
     "output_type": "display_data"
    }
   ],
   "source": [
    "from matplotlib.colors import LogNorm, SymLogNorm\n",
    "\n",
    "plt.figure(constrained_layout=True)\n",
    "\n",
    "plt.hist2d(\n",
    "    x,\n",
    "    y,\n",
    "    bins=50,\n",
    "    norm=LogNorm(),\n",
    ")\n",
    "#al estar en escala logarítmica, los ceros quedan sin color\n",
    "\n",
    "plt.colorbar(label='Counts');"
   ]
  },
  {
   "cell_type": "code",
   "execution_count": 87,
   "metadata": {
    "colab": {
     "base_uri": "https://localhost:8080/",
     "height": 508
    },
    "id": "8I3iEkp0ew-C",
    "outputId": "0448c94c-f2ba-499c-b661-850f5a647305"
   },
   "outputs": [
    {
     "data": {
      "image/png": "[encoded data removed]",
      "text/plain": [
       "<Figure size 640x480 with 2 Axes>"
      ]
     },
     "metadata": {},
     "output_type": "display_data"
    }
   ],
   "source": [
    "\n",
    "x1, y1 = rng.multivariate_normal(mean, cov / 3, size=100000).T\n",
    "x2, y2 = rng.multivariate_normal(mean, cov, size=100000).T\n",
    "\n",
    "\n",
    "hist1, xedges, yedges = np.histogram2d(x1, y1, bins=100, range=[[-8, 13], [-7, 9]])\n",
    "hist2, _, _ = np.histogram2d(x2, y2, bins=[xedges, yedges])\n",
    "\n",
    "plt.figure(constrained_layout=True)\n",
    "\n",
    "plt.pcolormesh(\n",
    "    xedges,\n",
    "    yedges,\n",
    "    hist1 - hist2,\n",
    "    cmap='inferno_r',\n",
    "\n",
    "    #muestra los positivos y negativos\n",
    "    norm=SymLogNorm(10),\n",
    ")\n",
    "\n",
    "\n",
    "plt.colorbar();"
   ]
  },
  {
   "cell_type": "markdown",
   "metadata": {
    "id": "iapqmf7Aew-C"
   },
   "source": [
    "## Múltiples gráficas"
   ]
  },
  {
   "cell_type": "code",
   "execution_count": 88,
   "metadata": {
    "colab": {
     "base_uri": "https://localhost:8080/",
     "height": 526
    },
    "id": "eonClgusew-C",
    "outputId": "cd33307f-c47c-4579-93cc-acf2858efe24"
   },
   "outputs": [
    {
     "data": {
      "text/plain": [
       "Text(0.5, 1.0, '$f(x)=\\\\sin(x)$')"
      ]
     },
     "execution_count": 88,
     "metadata": {},
     "output_type": "execute_result"
    },
    {
     "data": {
      "image/png": "[encoded data removed]",
      "text/plain": [
       "<Figure size 640x480 with 2 Axes>"
      ]
     },
     "metadata": {},
     "output_type": "display_data"
    }
   ],
   "source": [
    "x = np.linspace(0, 2*np.pi)\n",
    "\n",
    "plt.figure(constrained_layout=True)\n",
    "\n",
    "plt.subplot(2, 1, 1)\n",
    "plt.plot(x, x**2)\n",
    "plt.xlim(0, 2*np.pi)\n",
    "plt.xlabel('$x \\ / \\ \\mathrm{m}$')\n",
    "plt.title(r\"$f(x)=x^2$\")\n",
    "\n",
    "plt.subplot(2, 1, 2)\n",
    "plt.plot(x, np.sin(x))\n",
    "plt.xlim(0, 2*np.pi)\n",
    "plt.xlabel('$x \\ / \\ \\mathrm{m}$')\n",
    "plt.title(r\"$f(x)=\\sin(x)$\")\n",
    "\n",
    "#guardar\n",
    "#plt.savefig('fig.png',dpi=300)"
   ]
  },
  {
   "cell_type": "code",
   "execution_count": 89,
   "metadata": {
    "colab": {
     "base_uri": "https://localhost:8080/",
     "height": 565
    },
    "id": "ZHoy0r2Tew-C",
    "outputId": "bb9bef3d-e5d3-45a7-f9a0-6eba16d91177"
   },
   "outputs": [
    {
     "data": {
      "image/png": "[encoded data removed]",
      "text/plain": [
       "<Figure size 640x480 with 2 Axes>"
      ]
     },
     "metadata": {},
     "output_type": "display_data"
    }
   ],
   "source": [
    "def poisson(x, k):\n",
    "    return np.exp(-x)*x**k / np.math.factorial(k)\n",
    "\n",
    "x = np.linspace(0, 12, 40)\n",
    "y = poisson(x, 2)\n",
    "y_noise = y + np.random.normal(0, 0.01, len(y))\n",
    "z = np.linspace(0, 12, 100)\n",
    "\n",
    "gridspec = {'height_ratios': [2, 1]}\n",
    "\n",
    "fig, (ax1, ax2) = plt.subplots(2, 1, sharex=True, gridspec_kw=gridspec, constrained_layout=True)\n",
    "\n",
    "ax1.plot(x, y_noise, 'ko')\n",
    "ax1.plot(z, poisson(z, 2))\n",
    "ax1.set_ylim(-0.05, 0.30)\n",
    "ax1.set_ylabel('Flux')\n",
    "ax1.set_yticks(ax1.get_yticks()[1:])    # remove bottom y-tick\n",
    "\n",
    "ax2.plot(x, y_noise - y, 'ko')\n",
    "ax2.axhline(y=0, color='black', linestyle='--', linewidth=1)\n",
    "ax2.set_xlabel('Energy')\n",
    "ax2.set_ylim(-0.03, 0.04)\n",
    "ax2.set_ylabel('Residuals')\n",
    "ax2.set_yticks(ax2.get_yticks()[:-1])   # remove top y-tick\n",
    "\n",
    "fig.suptitle('\\nFake Spectrum', fontweight='bold');"
   ]
  },
  {
   "cell_type": "markdown",
   "metadata": {
    "id": "ty5y6zJAew-C"
   },
   "source": [
    "## Gráfica 3D"
   ]
  },
  {
   "cell_type": "code",
   "execution_count": 90,
   "metadata": {
    "colab": {
     "base_uri": "https://localhost:8080/",
     "height": 428
    },
    "id": "mBsFAyJWew-D",
    "outputId": "e6605d78-4c09-427d-9ca1-a8ab4d375a83"
   },
   "outputs": [
    {
     "data": {
      "text/plain": [
       "<mpl_toolkits.mplot3d.art3d.Path3DCollection at 0x2aeb876e230>"
      ]
     },
     "execution_count": 90,
     "metadata": {},
     "output_type": "execute_result"
    },
    {
     "data": {
      "image/png": "[encoded data removed]",
      "text/plain": [
       "<Figure size 640x480 with 1 Axes>"
      ]
     },
     "metadata": {},
     "output_type": "display_data"
    }
   ],
   "source": [
    "x, y, z = rng.normal(0, 2, size=(3, 100))\n",
    "\n",
    "\n",
    "fig = plt.figure()\n",
    "ax = fig.add_subplot(projection='3d')\n",
    "\n",
    "ax.scatter(x, y, z)"
   ]
  },
  {
   "cell_type": "markdown",
   "metadata": {
    "id": "nOzoJ531ew-D"
   },
   "source": [
    "![pandas](https://upload.wikimedia.org/wikipedia/commons/thumb/e/ed/Pandas_logo.svg/640px-Pandas_logo.svg.png)"
   ]
  },
  {
   "cell_type": "code",
   "execution_count": 91,
   "metadata": {
    "id": "sg6tEBZ1ew-D"
   },
   "outputs": [],
   "source": [
    "import pandas as pd\n"
   ]
  },
  {
   "cell_type": "code",
   "execution_count": 92,
   "metadata": {
    "colab": {
     "base_uri": "https://localhost:8080/",
     "height": 175
    },
    "id": "ZTx0IHjsew-D",
    "outputId": "52487591-455c-4154-b091-d1e84c424e13"
   },
   "outputs": [
    {
     "data": {
      "text/html": [
       "<div>\n",
       "<style scoped>\n",
       "    .dataframe tbody tr th:only-of-type {\n",
       "        vertical-align: middle;\n",
       "    }\n",
       "\n",
       "    .dataframe tbody tr th {\n",
       "        vertical-align: top;\n",
       "    }\n",
       "\n",
       "    .dataframe thead th {\n",
       "        text-align: right;\n",
       "    }\n",
       "</style>\n",
       "<table border=\"1\" class=\"dataframe\">\n",
       "  <thead>\n",
       "    <tr style=\"text-align: right;\">\n",
       "      <th></th>\n",
       "      <th>0</th>\n",
       "    </tr>\n",
       "  </thead>\n",
       "  <tbody>\n",
       "    <tr>\n",
       "      <th>0</th>\n",
       "      <td>1</td>\n",
       "    </tr>\n",
       "    <tr>\n",
       "      <th>1</th>\n",
       "      <td>2</td>\n",
       "    </tr>\n",
       "    <tr>\n",
       "      <th>2</th>\n",
       "      <td>3</td>\n",
       "    </tr>\n",
       "    <tr>\n",
       "      <th>3</th>\n",
       "      <td>4</td>\n",
       "    </tr>\n",
       "  </tbody>\n",
       "</table>\n",
       "</div>"
      ],
      "text/plain": [
       "   0\n",
       "0  1\n",
       "1  2\n",
       "2  3\n",
       "3  4"
      ]
     },
     "execution_count": 92,
     "metadata": {},
     "output_type": "execute_result"
    }
   ],
   "source": [
    "data = [1, 2, 3, 4]\n",
    "pd.DataFrame(data)"
   ]
  },
  {
   "cell_type": "code",
   "execution_count": 93,
   "metadata": {
    "id": "m4H5mQ8rew-D"
   },
   "outputs": [],
   "source": [
    "data = {'a': [1, 2, 3],\n",
    "        'b': [4.1, 5.2, 6.3],\n",
    "        'c': ['foo', 'bar', 'baz'],\n",
    "        'd': 42}"
   ]
  },
  {
   "cell_type": "code",
   "execution_count": 94,
   "metadata": {
    "colab": {
     "base_uri": "https://localhost:8080/",
     "height": 143
    },
    "id": "qJKZ4cHKew-D",
    "outputId": "903c3234-3644-4350-9e98-c310d241cac9"
   },
   "outputs": [
    {
     "data": {
      "text/html": [
       "<div>\n",
       "<style scoped>\n",
       "    .dataframe tbody tr th:only-of-type {\n",
       "        vertical-align: middle;\n",
       "    }\n",
       "\n",
       "    .dataframe tbody tr th {\n",
       "        vertical-align: top;\n",
       "    }\n",
       "\n",
       "    .dataframe thead th {\n",
       "        text-align: right;\n",
       "    }\n",
       "</style>\n",
       "<table border=\"1\" class=\"dataframe\">\n",
       "  <thead>\n",
       "    <tr style=\"text-align: right;\">\n",
       "      <th></th>\n",
       "      <th>a</th>\n",
       "      <th>b</th>\n",
       "      <th>c</th>\n",
       "      <th>d</th>\n",
       "    </tr>\n",
       "  </thead>\n",
       "  <tbody>\n",
       "    <tr>\n",
       "      <th>0</th>\n",
       "      <td>1</td>\n",
       "      <td>4.1</td>\n",
       "      <td>foo</td>\n",
       "      <td>42</td>\n",
       "    </tr>\n",
       "    <tr>\n",
       "      <th>1</th>\n",
       "      <td>2</td>\n",
       "      <td>5.2</td>\n",
       "      <td>bar</td>\n",
       "      <td>42</td>\n",
       "    </tr>\n",
       "    <tr>\n",
       "      <th>2</th>\n",
       "      <td>3</td>\n",
       "      <td>6.3</td>\n",
       "      <td>baz</td>\n",
       "      <td>42</td>\n",
       "    </tr>\n",
       "  </tbody>\n",
       "</table>\n",
       "</div>"
      ],
      "text/plain": [
       "   a    b    c   d\n",
       "0  1  4.1  foo  42\n",
       "1  2  5.2  bar  42\n",
       "2  3  6.3  baz  42"
      ]
     },
     "execution_count": 94,
     "metadata": {},
     "output_type": "execute_result"
    }
   ],
   "source": [
    "df = pd.DataFrame(data)\n",
    "df"
   ]
  },
  {
   "cell_type": "code",
   "execution_count": 95,
   "metadata": {
    "colab": {
     "base_uri": "https://localhost:8080/"
    },
    "id": "oM9W1ooaew-D",
    "outputId": "e94e2081-6976-461e-9a94-33967b0932c2"
   },
   "outputs": [
    {
     "data": {
      "text/plain": [
       "0    foo\n",
       "1    bar\n",
       "2    baz\n",
       "Name: c, dtype: object"
      ]
     },
     "execution_count": 95,
     "metadata": {},
     "output_type": "execute_result"
    }
   ],
   "source": [
    "df['c']"
   ]
  },
  {
   "cell_type": "code",
   "execution_count": 96,
   "metadata": {
    "colab": {
     "base_uri": "https://localhost:8080/"
    },
    "id": "gp8fkl9Uew-E",
    "outputId": "24b888ac-5999-4aaa-f509-11b924b14ed4"
   },
   "outputs": [
    {
     "data": {
      "text/plain": [
       "0    8\n",
       "1    1\n",
       "2    6\n",
       "3    8\n",
       "4    6\n",
       "dtype: int64"
      ]
     },
     "execution_count": 96,
     "metadata": {},
     "output_type": "execute_result"
    }
   ],
   "source": [
    "s = pd.Series(rng.integers(0, 10, 5))\n",
    "#arreglo de una sola columna\n",
    "s"
   ]
  },
  {
   "cell_type": "code",
   "execution_count": 97,
   "metadata": {
    "colab": {
     "base_uri": "https://localhost:8080/"
    },
    "id": "XRnC7IFoew-E",
    "outputId": "a6ebef8b-a58c-4971-e44e-7ea2f495a726"
   },
   "outputs": [
    {
     "data": {
      "text/plain": [
       "1    1\n",
       "2    6\n",
       "4    6\n",
       "0    8\n",
       "3    8\n",
       "dtype: int64"
      ]
     },
     "execution_count": 97,
     "metadata": {},
     "output_type": "execute_result"
    }
   ],
   "source": [
    "s.sort_values()\n",
    "#índices quedan en desorden"
   ]
  },
  {
   "cell_type": "code",
   "execution_count": 98,
   "metadata": {
    "colab": {
     "base_uri": "https://localhost:8080/",
     "height": 206
    },
    "id": "HT_XBKg3ew-E",
    "outputId": "261f0440-7333-483d-ec93-4fa1639c99d6"
   },
   "outputs": [
    {
     "data": {
      "text/html": [
       "<div>\n",
       "<style scoped>\n",
       "    .dataframe tbody tr th:only-of-type {\n",
       "        vertical-align: middle;\n",
       "    }\n",
       "\n",
       "    .dataframe tbody tr th {\n",
       "        vertical-align: top;\n",
       "    }\n",
       "\n",
       "    .dataframe thead th {\n",
       "        text-align: right;\n",
       "    }\n",
       "</style>\n",
       "<table border=\"1\" class=\"dataframe\">\n",
       "  <thead>\n",
       "    <tr style=\"text-align: right;\">\n",
       "      <th></th>\n",
       "      <th>index</th>\n",
       "      <th>0</th>\n",
       "    </tr>\n",
       "  </thead>\n",
       "  <tbody>\n",
       "    <tr>\n",
       "      <th>0</th>\n",
       "      <td>1</td>\n",
       "      <td>1</td>\n",
       "    </tr>\n",
       "    <tr>\n",
       "      <th>1</th>\n",
       "      <td>2</td>\n",
       "      <td>6</td>\n",
       "    </tr>\n",
       "    <tr>\n",
       "      <th>2</th>\n",
       "      <td>4</td>\n",
       "      <td>6</td>\n",
       "    </tr>\n",
       "    <tr>\n",
       "      <th>3</th>\n",
       "      <td>0</td>\n",
       "      <td>8</td>\n",
       "    </tr>\n",
       "    <tr>\n",
       "      <th>4</th>\n",
       "      <td>3</td>\n",
       "      <td>8</td>\n",
       "    </tr>\n",
       "  </tbody>\n",
       "</table>\n",
       "</div>"
      ],
      "text/plain": [
       "   index  0\n",
       "0      1  1\n",
       "1      2  6\n",
       "2      4  6\n",
       "3      0  8\n",
       "4      3  8"
      ]
     },
     "execution_count": 98,
     "metadata": {},
     "output_type": "execute_result"
    }
   ],
   "source": [
    "s.sort_values().reset_index()\n",
    "#reaordenar los índices"
   ]
  },
  {
   "cell_type": "code",
   "execution_count": 99,
   "metadata": {
    "colab": {
     "base_uri": "https://localhost:8080/"
    },
    "id": "xstdaC7New-E",
    "outputId": "40f59313-4d43-4701-aa35-1629f0ddd89f"
   },
   "outputs": [
    {
     "data": {
      "text/plain": [
       "0    1\n",
       "1    6\n",
       "2    6\n",
       "3    8\n",
       "4    8\n",
       "dtype: int64"
      ]
     },
     "execution_count": 99,
     "metadata": {},
     "output_type": "execute_result"
    }
   ],
   "source": [
    "s.sort_values().reset_index(drop=True)\n",
    "#reordenar los índices y eliminar los desordenados que se tenían antes"
   ]
  },
  {
   "cell_type": "code",
   "execution_count": 100,
   "metadata": {
    "colab": {
     "base_uri": "https://localhost:8080/",
     "height": 143
    },
    "id": "t9lvTve0ew-E",
    "outputId": "a9e84c3d-f10c-408b-df2d-d57b488c2bb7"
   },
   "outputs": [
    {
     "data": {
      "text/html": [
       "<div>\n",
       "<style scoped>\n",
       "    .dataframe tbody tr th:only-of-type {\n",
       "        vertical-align: middle;\n",
       "    }\n",
       "\n",
       "    .dataframe tbody tr th {\n",
       "        vertical-align: top;\n",
       "    }\n",
       "\n",
       "    .dataframe thead th {\n",
       "        text-align: right;\n",
       "    }\n",
       "</style>\n",
       "<table border=\"1\" class=\"dataframe\">\n",
       "  <thead>\n",
       "    <tr style=\"text-align: right;\">\n",
       "      <th></th>\n",
       "      <th>a</th>\n",
       "      <th>b</th>\n",
       "      <th>c</th>\n",
       "      <th>d</th>\n",
       "    </tr>\n",
       "  </thead>\n",
       "  <tbody>\n",
       "    <tr>\n",
       "      <th>0</th>\n",
       "      <td>1</td>\n",
       "      <td>4.1</td>\n",
       "      <td>foo</td>\n",
       "      <td>42</td>\n",
       "    </tr>\n",
       "    <tr>\n",
       "      <th>1</th>\n",
       "      <td>2</td>\n",
       "      <td>5.2</td>\n",
       "      <td>bar</td>\n",
       "      <td>42</td>\n",
       "    </tr>\n",
       "    <tr>\n",
       "      <th>2</th>\n",
       "      <td>3</td>\n",
       "      <td>6.3</td>\n",
       "      <td>baz</td>\n",
       "      <td>42</td>\n",
       "    </tr>\n",
       "  </tbody>\n",
       "</table>\n",
       "</div>"
      ],
      "text/plain": [
       "   a    b    c   d\n",
       "0  1  4.1  foo  42\n",
       "1  2  5.2  bar  42\n",
       "2  3  6.3  baz  42"
      ]
     },
     "execution_count": 100,
     "metadata": {},
     "output_type": "execute_result"
    }
   ],
   "source": [
    "df"
   ]
  },
  {
   "cell_type": "code",
   "execution_count": 101,
   "metadata": {
    "colab": {
     "base_uri": "https://localhost:8080/"
    },
    "id": "0BjQCtwAew-E",
    "outputId": "47f3c4dc-b5d0-4183-8bf9-c85afef0cb96"
   },
   "outputs": [
    {
     "data": {
      "text/plain": [
       "a      3\n",
       "b    6.3\n",
       "c    baz\n",
       "d     42\n",
       "Name: 2, dtype: object"
      ]
     },
     "execution_count": 101,
     "metadata": {},
     "output_type": "execute_result"
    }
   ],
   "source": [
    "df.loc[2]\n",
    "#acceder a una fila"
   ]
  },
  {
   "cell_type": "code",
   "execution_count": 102,
   "metadata": {
    "colab": {
     "base_uri": "https://localhost:8080/"
    },
    "id": "lo3kEBIkew-F",
    "outputId": "824aca9b-fe0e-4cef-8ffd-fc5f108c0588"
   },
   "outputs": [
    {
     "data": {
      "text/plain": [
       "6.3"
      ]
     },
     "execution_count": 102,
     "metadata": {},
     "output_type": "execute_result"
    }
   ],
   "source": [
    "df['b'].loc[2]\n",
    "#acceder a la columba b en la fila 2"
   ]
  },
  {
   "cell_type": "code",
   "execution_count": 103,
   "metadata": {
    "colab": {
     "base_uri": "https://localhost:8080/",
     "height": 112
    },
    "id": "I9Qt-cnuew-F",
    "outputId": "8e9c0c6f-7612-4fe6-f55e-ffe5a8aafaee"
   },
   "outputs": [
    {
     "data": {
      "text/html": [
       "<div>\n",
       "<style scoped>\n",
       "    .dataframe tbody tr th:only-of-type {\n",
       "        vertical-align: middle;\n",
       "    }\n",
       "\n",
       "    .dataframe tbody tr th {\n",
       "        vertical-align: top;\n",
       "    }\n",
       "\n",
       "    .dataframe thead th {\n",
       "        text-align: right;\n",
       "    }\n",
       "</style>\n",
       "<table border=\"1\" class=\"dataframe\">\n",
       "  <thead>\n",
       "    <tr style=\"text-align: right;\">\n",
       "      <th></th>\n",
       "      <th>b</th>\n",
       "      <th>d</th>\n",
       "    </tr>\n",
       "  </thead>\n",
       "  <tbody>\n",
       "    <tr>\n",
       "      <th>1</th>\n",
       "      <td>5.2</td>\n",
       "      <td>42</td>\n",
       "    </tr>\n",
       "    <tr>\n",
       "      <th>2</th>\n",
       "      <td>6.3</td>\n",
       "      <td>42</td>\n",
       "    </tr>\n",
       "  </tbody>\n",
       "</table>\n",
       "</div>"
      ],
      "text/plain": [
       "     b   d\n",
       "1  5.2  42\n",
       "2  6.3  42"
      ]
     },
     "execution_count": 103,
     "metadata": {},
     "output_type": "execute_result"
    }
   ],
   "source": [
    "df.loc[[1, 2], ['b', 'd']]"
   ]
  },
  {
   "cell_type": "code",
   "execution_count": 104,
   "metadata": {
    "colab": {
     "base_uri": "https://localhost:8080/",
     "height": 112
    },
    "id": "bKQIsYlVew-F",
    "outputId": "331d4cc4-cd80-4254-f75f-2305429e1c6d"
   },
   "outputs": [
    {
     "data": {
      "text/html": [
       "<div>\n",
       "<style scoped>\n",
       "    .dataframe tbody tr th:only-of-type {\n",
       "        vertical-align: middle;\n",
       "    }\n",
       "\n",
       "    .dataframe tbody tr th {\n",
       "        vertical-align: top;\n",
       "    }\n",
       "\n",
       "    .dataframe thead th {\n",
       "        text-align: right;\n",
       "    }\n",
       "</style>\n",
       "<table border=\"1\" class=\"dataframe\">\n",
       "  <thead>\n",
       "    <tr style=\"text-align: right;\">\n",
       "      <th></th>\n",
       "      <th>a</th>\n",
       "    </tr>\n",
       "  </thead>\n",
       "  <tbody>\n",
       "    <tr>\n",
       "      <th>1</th>\n",
       "      <td>2</td>\n",
       "    </tr>\n",
       "    <tr>\n",
       "      <th>2</th>\n",
       "      <td>3</td>\n",
       "    </tr>\n",
       "  </tbody>\n",
       "</table>\n",
       "</div>"
      ],
      "text/plain": [
       "   a\n",
       "1  2\n",
       "2  3"
      ]
     },
     "execution_count": 104,
     "metadata": {},
     "output_type": "execute_result"
    }
   ],
   "source": [
    "df.loc[1:3, ['a']] #busca por nombre de la columna"
   ]
  },
  {
   "cell_type": "code",
   "execution_count": 105,
   "metadata": {
    "colab": {
     "base_uri": "https://localhost:8080/"
    },
    "id": "EhX_8Nnqew-F",
    "outputId": "e8ea409e-109b-443e-c0f1-c6f401d1d5f7"
   },
   "outputs": [
    {
     "data": {
      "text/plain": [
       "a      3\n",
       "b    6.3\n",
       "c    baz\n",
       "d     42\n",
       "Name: 2, dtype: object"
      ]
     },
     "execution_count": 105,
     "metadata": {},
     "output_type": "execute_result"
    }
   ],
   "source": [
    "df.iloc[2]  # busca por índice de la columna"
   ]
  },
  {
   "cell_type": "code",
   "execution_count": 106,
   "metadata": {
    "colab": {
     "base_uri": "https://localhost:8080/"
    },
    "id": "2MJh4x71ew-F",
    "outputId": "aa94e5d7-c49e-4e19-bf44-02371be471f3"
   },
   "outputs": [
    {
     "data": {
      "text/plain": [
       "6.3"
      ]
     },
     "execution_count": 106,
     "metadata": {},
     "output_type": "execute_result"
    }
   ],
   "source": [
    "df.at[2, 'b']"
   ]
  },
  {
   "cell_type": "code",
   "execution_count": 107,
   "metadata": {
    "colab": {
     "base_uri": "https://localhost:8080/"
    },
    "id": "XlaQugKLew-F",
    "outputId": "150a7c6b-79b8-4b40-b17e-d3c73951c989"
   },
   "outputs": [
    {
     "data": {
      "text/plain": [
       "6.3"
      ]
     },
     "execution_count": 107,
     "metadata": {},
     "output_type": "execute_result"
    }
   ],
   "source": [
    "df.iat[2, 1]"
   ]
  },
  {
   "cell_type": "code",
   "execution_count": 108,
   "metadata": {
    "colab": {
     "base_uri": "https://localhost:8080/",
     "height": 300
    },
    "id": "hjZQjSMLew-G",
    "outputId": "53a76750-44b7-442a-a2dc-c68c6614aa20"
   },
   "outputs": [
    {
     "data": {
      "text/html": [
       "<div>\n",
       "<style scoped>\n",
       "    .dataframe tbody tr th:only-of-type {\n",
       "        vertical-align: middle;\n",
       "    }\n",
       "\n",
       "    .dataframe tbody tr th {\n",
       "        vertical-align: top;\n",
       "    }\n",
       "\n",
       "    .dataframe thead th {\n",
       "        text-align: right;\n",
       "    }\n",
       "</style>\n",
       "<table border=\"1\" class=\"dataframe\">\n",
       "  <thead>\n",
       "    <tr style=\"text-align: right;\">\n",
       "      <th></th>\n",
       "      <th>location</th>\n",
       "      <th>detector</th>\n",
       "      <th>x</th>\n",
       "      <th>y</th>\n",
       "    </tr>\n",
       "  </thead>\n",
       "  <tbody>\n",
       "    <tr>\n",
       "      <th>0</th>\n",
       "      <td>Italy</td>\n",
       "      <td>ARCA_DU1</td>\n",
       "      <td>0.000606</td>\n",
       "      <td>0.372982</td>\n",
       "    </tr>\n",
       "    <tr>\n",
       "      <th>1</th>\n",
       "      <td>France</td>\n",
       "      <td>ORCA_DU2</td>\n",
       "      <td>0.078585</td>\n",
       "      <td>0.970331</td>\n",
       "    </tr>\n",
       "    <tr>\n",
       "      <th>2</th>\n",
       "      <td>Italy</td>\n",
       "      <td>ARCA_DU3</td>\n",
       "      <td>0.936027</td>\n",
       "      <td>0.084835</td>\n",
       "    </tr>\n",
       "    <tr>\n",
       "      <th>3</th>\n",
       "      <td>Italy</td>\n",
       "      <td>ARCA_DU4</td>\n",
       "      <td>0.086645</td>\n",
       "      <td>0.881801</td>\n",
       "    </tr>\n",
       "    <tr>\n",
       "      <th>4</th>\n",
       "      <td>France</td>\n",
       "      <td>ANTARES</td>\n",
       "      <td>0.330381</td>\n",
       "      <td>0.247964</td>\n",
       "    </tr>\n",
       "    <tr>\n",
       "      <th>5</th>\n",
       "      <td>Italy</td>\n",
       "      <td>NEMO</td>\n",
       "      <td>0.147238</td>\n",
       "      <td>0.417606</td>\n",
       "    </tr>\n",
       "    <tr>\n",
       "      <th>6</th>\n",
       "      <td>France</td>\n",
       "      <td>ORCA_DU1</td>\n",
       "      <td>0.741929</td>\n",
       "      <td>0.975026</td>\n",
       "    </tr>\n",
       "    <tr>\n",
       "      <th>7</th>\n",
       "      <td>France</td>\n",
       "      <td>ORCA_DU5</td>\n",
       "      <td>0.909687</td>\n",
       "      <td>0.141834</td>\n",
       "    </tr>\n",
       "  </tbody>\n",
       "</table>\n",
       "</div>"
      ],
      "text/plain": [
       "  location  detector         x         y\n",
       "0    Italy  ARCA_DU1  0.000606  0.372982\n",
       "1   France  ORCA_DU2  0.078585  0.970331\n",
       "2    Italy  ARCA_DU3  0.936027  0.084835\n",
       "3    Italy  ARCA_DU4  0.086645  0.881801\n",
       "4   France   ANTARES  0.330381  0.247964\n",
       "5    Italy      NEMO  0.147238  0.417606\n",
       "6   France  ORCA_DU1  0.741929  0.975026\n",
       "7   France  ORCA_DU5  0.909687  0.141834"
      ]
     },
     "execution_count": 108,
     "metadata": {},
     "output_type": "execute_result"
    }
   ],
   "source": [
    "df = pd.DataFrame({'location' : ['Italy', 'France', 'Italy', 'Italy',\n",
    "                                 'France', 'Italy', 'France', 'France'],\n",
    "                   'detector' : ['ARCA_DU1', 'ORCA_DU2', 'ARCA_DU3', 'ARCA_DU4',\n",
    "                                 'ANTARES', 'NEMO', 'ORCA_DU1', 'ORCA_DU5'],\n",
    "                   'x' : rng.random(8),\n",
    "                   'y' : rng.random(8)})\n",
    "df"
   ]
  },
  {
   "cell_type": "code",
   "execution_count": 109,
   "metadata": {
    "colab": {
     "base_uri": "https://localhost:8080/"
    },
    "id": "ctpSl4MYew-G",
    "outputId": "b073087d-a3c6-41a8-b1e7-95d0c6322745"
   },
   "outputs": [
    {
     "data": {
      "text/plain": [
       "{'France': [1, 4, 6, 7], 'Italy': [0, 2, 3, 5]}"
      ]
     },
     "execution_count": 109,
     "metadata": {},
     "output_type": "execute_result"
    }
   ],
   "source": [
    "df.groupby(['location']).groups\n",
    "#agrupar los que se repiten"
   ]
  },
  {
   "cell_type": "code",
   "execution_count": 110,
   "metadata": {
    "colab": {
     "base_uri": "https://localhost:8080/",
     "height": 175
    },
    "id": "hmMB18o-ew-G",
    "outputId": "0c7cbc1c-ba56-4448-c5d7-6b49d95b4933"
   },
   "outputs": [
    {
     "data": {
      "text/html": [
       "<div>\n",
       "<style scoped>\n",
       "    .dataframe tbody tr th:only-of-type {\n",
       "        vertical-align: middle;\n",
       "    }\n",
       "\n",
       "    .dataframe tbody tr th {\n",
       "        vertical-align: top;\n",
       "    }\n",
       "\n",
       "    .dataframe thead th {\n",
       "        text-align: right;\n",
       "    }\n",
       "</style>\n",
       "<table border=\"1\" class=\"dataframe\">\n",
       "  <thead>\n",
       "    <tr style=\"text-align: right;\">\n",
       "      <th></th>\n",
       "      <th>location</th>\n",
       "      <th>detector</th>\n",
       "      <th>x</th>\n",
       "      <th>y</th>\n",
       "    </tr>\n",
       "  </thead>\n",
       "  <tbody>\n",
       "    <tr>\n",
       "      <th>1</th>\n",
       "      <td>France</td>\n",
       "      <td>ORCA_DU2</td>\n",
       "      <td>0.078585</td>\n",
       "      <td>0.970331</td>\n",
       "    </tr>\n",
       "    <tr>\n",
       "      <th>4</th>\n",
       "      <td>France</td>\n",
       "      <td>ANTARES</td>\n",
       "      <td>0.330381</td>\n",
       "      <td>0.247964</td>\n",
       "    </tr>\n",
       "    <tr>\n",
       "      <th>6</th>\n",
       "      <td>France</td>\n",
       "      <td>ORCA_DU1</td>\n",
       "      <td>0.741929</td>\n",
       "      <td>0.975026</td>\n",
       "    </tr>\n",
       "    <tr>\n",
       "      <th>7</th>\n",
       "      <td>France</td>\n",
       "      <td>ORCA_DU5</td>\n",
       "      <td>0.909687</td>\n",
       "      <td>0.141834</td>\n",
       "    </tr>\n",
       "  </tbody>\n",
       "</table>\n",
       "</div>"
      ],
      "text/plain": [
       "  location  detector         x         y\n",
       "1   France  ORCA_DU2  0.078585  0.970331\n",
       "4   France   ANTARES  0.330381  0.247964\n",
       "6   France  ORCA_DU1  0.741929  0.975026\n",
       "7   France  ORCA_DU5  0.909687  0.141834"
      ]
     },
     "execution_count": 110,
     "metadata": {},
     "output_type": "execute_result"
    }
   ],
   "source": [
    "df.groupby(['location']).get_group('France')  #agrupar los de francia"
   ]
  },
  {
   "cell_type": "code",
   "execution_count": 111,
   "metadata": {
    "id": "Rs6cSaPlew-G"
   },
   "outputs": [],
   "source": [
    "a = df.groupby(['location']).get_group('France')"
   ]
  },
  {
   "cell_type": "code",
   "execution_count": 112,
   "metadata": {
    "id": "zm7adFRAew-G"
   },
   "outputs": [],
   "source": [
    "b=df[df['location']=='France'] #otra forma de agrupar los de Francia\n"
   ]
  },
  {
   "cell_type": "code",
   "execution_count": 113,
   "metadata": {
    "colab": {
     "base_uri": "https://localhost:8080/",
     "height": 284
    },
    "id": "oMsuxybI6UVO",
    "outputId": "7e77fd94-c507-4c55-83ca-d919889c430a"
   },
   "outputs": [
    {
     "name": "stderr",
     "output_type": "stream",
     "text": [
      "C:\\Users\\Lenovo\\AppData\\Local\\Temp\\ipykernel_21076\\2343865278.py:1: SettingWithCopyWarning: \n",
      "A value is trying to be set on a copy of a slice from a DataFrame.\n",
      "Try using .loc[row_indexer,col_indexer] = value instead\n",
      "\n",
      "See the caveats in the documentation: https://pandas.pydata.org/pandas-docs/stable/user_guide/indexing.html#returning-a-view-versus-a-copy\n",
      "  b['suma']=b['x']+b['y']\n"
     ]
    },
    {
     "data": {
      "text/html": [
       "<div>\n",
       "<style scoped>\n",
       "    .dataframe tbody tr th:only-of-type {\n",
       "        vertical-align: middle;\n",
       "    }\n",
       "\n",
       "    .dataframe tbody tr th {\n",
       "        vertical-align: top;\n",
       "    }\n",
       "\n",
       "    .dataframe thead th {\n",
       "        text-align: right;\n",
       "    }\n",
       "</style>\n",
       "<table border=\"1\" class=\"dataframe\">\n",
       "  <thead>\n",
       "    <tr style=\"text-align: right;\">\n",
       "      <th></th>\n",
       "      <th>location</th>\n",
       "      <th>detector</th>\n",
       "      <th>x</th>\n",
       "      <th>y</th>\n",
       "      <th>suma</th>\n",
       "    </tr>\n",
       "  </thead>\n",
       "  <tbody>\n",
       "    <tr>\n",
       "      <th>1</th>\n",
       "      <td>France</td>\n",
       "      <td>ORCA_DU2</td>\n",
       "      <td>0.078585</td>\n",
       "      <td>0.970331</td>\n",
       "      <td>1.048916</td>\n",
       "    </tr>\n",
       "    <tr>\n",
       "      <th>4</th>\n",
       "      <td>France</td>\n",
       "      <td>ANTARES</td>\n",
       "      <td>0.330381</td>\n",
       "      <td>0.247964</td>\n",
       "      <td>0.578345</td>\n",
       "    </tr>\n",
       "    <tr>\n",
       "      <th>6</th>\n",
       "      <td>France</td>\n",
       "      <td>ORCA_DU1</td>\n",
       "      <td>0.741929</td>\n",
       "      <td>0.975026</td>\n",
       "      <td>1.716955</td>\n",
       "    </tr>\n",
       "    <tr>\n",
       "      <th>7</th>\n",
       "      <td>France</td>\n",
       "      <td>ORCA_DU5</td>\n",
       "      <td>0.909687</td>\n",
       "      <td>0.141834</td>\n",
       "      <td>1.051521</td>\n",
       "    </tr>\n",
       "  </tbody>\n",
       "</table>\n",
       "</div>"
      ],
      "text/plain": [
       "  location  detector         x         y      suma\n",
       "1   France  ORCA_DU2  0.078585  0.970331  1.048916\n",
       "4   France   ANTARES  0.330381  0.247964  0.578345\n",
       "6   France  ORCA_DU1  0.741929  0.975026  1.716955\n",
       "7   France  ORCA_DU5  0.909687  0.141834  1.051521"
      ]
     },
     "execution_count": 113,
     "metadata": {},
     "output_type": "execute_result"
    }
   ],
   "source": [
    "b['suma']=b['x']+b['y']\n",
    "b"
   ]
  },
  {
   "cell_type": "code",
   "execution_count": 114,
   "metadata": {
    "id": "S23pjo7Qew-G"
   },
   "outputs": [],
   "source": [
    "df = pd.DataFrame({'foo': np.cumsum(rng.random(1000) - 0.5),\n",
    "                   'bar': np.cumsum(rng.random(1000) - 0.5),\n",
    "                   'narf': np.cumsum(rng.random(1000) - 0.5)})"
   ]
  },
  {
   "cell_type": "code",
   "execution_count": 115,
   "metadata": {
    "id": "pUx6Zk5Lew-H"
   },
   "outputs": [],
   "source": [
    "df['time'] = np.linspace(0,20,1000)"
   ]
  },
  {
   "cell_type": "code",
   "execution_count": 116,
   "metadata": {
    "colab": {
     "base_uri": "https://localhost:8080/",
     "height": 448
    },
    "id": "fvDSjs_pew-H",
    "outputId": "164f4f05-49ef-4165-ac20-47796ab6b317"
   },
   "outputs": [
    {
     "data": {
      "text/plain": [
       "[<matplotlib.lines.Line2D at 0x2aeb9dac3a0>]"
      ]
     },
     "execution_count": 116,
     "metadata": {},
     "output_type": "execute_result"
    },
    {
     "data": {
      "image/png": "[encoded data removed]",
      "text/plain": [
       "<Figure size 640x480 with 1 Axes>"
      ]
     },
     "metadata": {},
     "output_type": "display_data"
    }
   ],
   "source": [
    "plt.plot(df['time'], df['foo'])\n",
    "plt.plot(df['time'], df['bar'])\n",
    "plt.plot(df['time'], df['narf'])\n"
   ]
  },
  {
   "cell_type": "markdown",
   "metadata": {
    "id": "kdBm87X4ew-H"
   },
   "source": [
    "# Ejercicio:\n",
    "\n",
    "1. Carga el archivo planets.csv y grafica la relación masa - diámetro, y otra de distancia - periodo.\n",
    "\n",
    "2. Carga el archivo exoplanets.csv y realiza un histograma de las masas de los planetas encontrados a 20 bines."
   ]
  },
  {
   "cell_type": "code",
   "execution_count": 119,
   "metadata": {
    "colab": {
     "base_uri": "https://localhost:8080/",
     "height": 569
    },
    "id": "pSxnaTda7HKw",
    "outputId": "6718d988-9a46-4884-ebe0-e19fee8a0d15"
   },
   "outputs": [
    {
     "data": {
      "text/html": [
       "<div>\n",
       "<style scoped>\n",
       "    .dataframe tbody tr th:only-of-type {\n",
       "        vertical-align: middle;\n",
       "    }\n",
       "\n",
       "    .dataframe tbody tr th {\n",
       "        vertical-align: top;\n",
       "    }\n",
       "\n",
       "    .dataframe thead th {\n",
       "        text-align: right;\n",
       "    }\n",
       "</style>\n",
       "<table border=\"1\" class=\"dataframe\">\n",
       "  <thead>\n",
       "    <tr style=\"text-align: right;\">\n",
       "      <th></th>\n",
       "      <th>planet</th>\n",
       "      <th>moon</th>\n",
       "      <th>mass</th>\n",
       "      <th>diameter</th>\n",
       "      <th>density</th>\n",
       "      <th>gravity</th>\n",
       "      <th>escape_velocity</th>\n",
       "      <th>rotation_period</th>\n",
       "      <th>length_day</th>\n",
       "      <th>avg_dist</th>\n",
       "      <th>...</th>\n",
       "      <th>T</th>\n",
       "      <th>v</th>\n",
       "      <th>i</th>\n",
       "      <th>e</th>\n",
       "      <th>o</th>\n",
       "      <th>Temp</th>\n",
       "      <th>P</th>\n",
       "      <th>num_moons</th>\n",
       "      <th>rings</th>\n",
       "      <th>mag_field</th>\n",
       "    </tr>\n",
       "  </thead>\n",
       "  <tbody>\n",
       "    <tr>\n",
       "      <th>0</th>\n",
       "      <td>Mercury</td>\n",
       "      <td>n</td>\n",
       "      <td>0.33000</td>\n",
       "      <td>4879.0</td>\n",
       "      <td>5427</td>\n",
       "      <td>3.7</td>\n",
       "      <td>4.3</td>\n",
       "      <td>1407.6</td>\n",
       "      <td>4222.6</td>\n",
       "      <td>57.9000</td>\n",
       "      <td>...</td>\n",
       "      <td>88.00</td>\n",
       "      <td>47.4</td>\n",
       "      <td>7.0</td>\n",
       "      <td>0.205</td>\n",
       "      <td>0.034</td>\n",
       "      <td>167.0</td>\n",
       "      <td>0.00000</td>\n",
       "      <td>0.0</td>\n",
       "      <td>n</td>\n",
       "      <td>y</td>\n",
       "    </tr>\n",
       "    <tr>\n",
       "      <th>1</th>\n",
       "      <td>Venus</td>\n",
       "      <td>n</td>\n",
       "      <td>4.87000</td>\n",
       "      <td>12104.0</td>\n",
       "      <td>5243</td>\n",
       "      <td>8.9</td>\n",
       "      <td>10.4</td>\n",
       "      <td>-5832.5</td>\n",
       "      <td>2802.0</td>\n",
       "      <td>108.2000</td>\n",
       "      <td>...</td>\n",
       "      <td>224.70</td>\n",
       "      <td>35.0</td>\n",
       "      <td>3.4</td>\n",
       "      <td>0.007</td>\n",
       "      <td>177.400</td>\n",
       "      <td>464.0</td>\n",
       "      <td>92.00000</td>\n",
       "      <td>0.0</td>\n",
       "      <td>n</td>\n",
       "      <td>n</td>\n",
       "    </tr>\n",
       "    <tr>\n",
       "      <th>2</th>\n",
       "      <td>Earth</td>\n",
       "      <td>n</td>\n",
       "      <td>5.97000</td>\n",
       "      <td>12756.0</td>\n",
       "      <td>5514</td>\n",
       "      <td>9.8</td>\n",
       "      <td>11.2</td>\n",
       "      <td>23.9</td>\n",
       "      <td>24.0</td>\n",
       "      <td>149.6000</td>\n",
       "      <td>...</td>\n",
       "      <td>365.20</td>\n",
       "      <td>29.8</td>\n",
       "      <td>0.0</td>\n",
       "      <td>0.017</td>\n",
       "      <td>23.400</td>\n",
       "      <td>15.0</td>\n",
       "      <td>1.00000</td>\n",
       "      <td>1.0</td>\n",
       "      <td>n</td>\n",
       "      <td>y</td>\n",
       "    </tr>\n",
       "    <tr>\n",
       "      <th>3</th>\n",
       "      <td>Moon</td>\n",
       "      <td>y</td>\n",
       "      <td>0.07300</td>\n",
       "      <td>3475.0</td>\n",
       "      <td>3340</td>\n",
       "      <td>1.6</td>\n",
       "      <td>2.4</td>\n",
       "      <td>655.7</td>\n",
       "      <td>708.7</td>\n",
       "      <td>0.3840</td>\n",
       "      <td>...</td>\n",
       "      <td>27.30</td>\n",
       "      <td>1.0</td>\n",
       "      <td>5.1</td>\n",
       "      <td>0.055</td>\n",
       "      <td>6.700</td>\n",
       "      <td>-20.0</td>\n",
       "      <td>0.00000</td>\n",
       "      <td>0.0</td>\n",
       "      <td>n</td>\n",
       "      <td>n</td>\n",
       "    </tr>\n",
       "    <tr>\n",
       "      <th>4</th>\n",
       "      <td>Mars</td>\n",
       "      <td>n</td>\n",
       "      <td>0.64200</td>\n",
       "      <td>6792.0</td>\n",
       "      <td>3933</td>\n",
       "      <td>3.7</td>\n",
       "      <td>5.0</td>\n",
       "      <td>24.6</td>\n",
       "      <td>24.7</td>\n",
       "      <td>227.9000</td>\n",
       "      <td>...</td>\n",
       "      <td>687.00</td>\n",
       "      <td>24.1</td>\n",
       "      <td>1.9</td>\n",
       "      <td>0.094</td>\n",
       "      <td>25.200</td>\n",
       "      <td>-65.0</td>\n",
       "      <td>0.00100</td>\n",
       "      <td>2.0</td>\n",
       "      <td>n</td>\n",
       "      <td>n</td>\n",
       "    </tr>\n",
       "    <tr>\n",
       "      <th>5</th>\n",
       "      <td>Jupiter</td>\n",
       "      <td>n</td>\n",
       "      <td>1898.00000</td>\n",
       "      <td>142984.0</td>\n",
       "      <td>1326</td>\n",
       "      <td>23.1</td>\n",
       "      <td>59.5</td>\n",
       "      <td>9.9</td>\n",
       "      <td>9.9</td>\n",
       "      <td>778.6000</td>\n",
       "      <td>...</td>\n",
       "      <td>4331.00</td>\n",
       "      <td>13.1</td>\n",
       "      <td>1.3</td>\n",
       "      <td>0.049</td>\n",
       "      <td>3.100</td>\n",
       "      <td>-110.0</td>\n",
       "      <td>NaN</td>\n",
       "      <td>79.0</td>\n",
       "      <td>y</td>\n",
       "      <td>y</td>\n",
       "    </tr>\n",
       "    <tr>\n",
       "      <th>6</th>\n",
       "      <td>Saturn</td>\n",
       "      <td>n</td>\n",
       "      <td>568.00000</td>\n",
       "      <td>120536.0</td>\n",
       "      <td>687</td>\n",
       "      <td>9.0</td>\n",
       "      <td>35.5</td>\n",
       "      <td>10.7</td>\n",
       "      <td>10.7</td>\n",
       "      <td>1433.5000</td>\n",
       "      <td>...</td>\n",
       "      <td>10747.00</td>\n",
       "      <td>9.7</td>\n",
       "      <td>2.5</td>\n",
       "      <td>0.057</td>\n",
       "      <td>26.700</td>\n",
       "      <td>-140.0</td>\n",
       "      <td>NaN</td>\n",
       "      <td>82.0</td>\n",
       "      <td>y</td>\n",
       "      <td>y</td>\n",
       "    </tr>\n",
       "    <tr>\n",
       "      <th>7</th>\n",
       "      <td>Uranus</td>\n",
       "      <td>n</td>\n",
       "      <td>86.80000</td>\n",
       "      <td>51118.0</td>\n",
       "      <td>1271</td>\n",
       "      <td>8.7</td>\n",
       "      <td>21.3</td>\n",
       "      <td>-17.2</td>\n",
       "      <td>17.2</td>\n",
       "      <td>2872.5000</td>\n",
       "      <td>...</td>\n",
       "      <td>30589.00</td>\n",
       "      <td>6.8</td>\n",
       "      <td>0.8</td>\n",
       "      <td>0.046</td>\n",
       "      <td>97.800</td>\n",
       "      <td>-195.0</td>\n",
       "      <td>NaN</td>\n",
       "      <td>27.0</td>\n",
       "      <td>y</td>\n",
       "      <td>y</td>\n",
       "    </tr>\n",
       "    <tr>\n",
       "      <th>8</th>\n",
       "      <td>Neptune</td>\n",
       "      <td>n</td>\n",
       "      <td>102.00000</td>\n",
       "      <td>49528.0</td>\n",
       "      <td>1638</td>\n",
       "      <td>11.0</td>\n",
       "      <td>23.5</td>\n",
       "      <td>16.1</td>\n",
       "      <td>16.1</td>\n",
       "      <td>4495.1000</td>\n",
       "      <td>...</td>\n",
       "      <td>59800.00</td>\n",
       "      <td>5.4</td>\n",
       "      <td>1.8</td>\n",
       "      <td>0.011</td>\n",
       "      <td>28.300</td>\n",
       "      <td>-200.0</td>\n",
       "      <td>NaN</td>\n",
       "      <td>14.0</td>\n",
       "      <td>y</td>\n",
       "      <td>y</td>\n",
       "    </tr>\n",
       "    <tr>\n",
       "      <th>9</th>\n",
       "      <td>Pluto</td>\n",
       "      <td>n</td>\n",
       "      <td>0.01460</td>\n",
       "      <td>2370.0</td>\n",
       "      <td>2095</td>\n",
       "      <td>0.7</td>\n",
       "      <td>1.3</td>\n",
       "      <td>-153.3</td>\n",
       "      <td>153.3</td>\n",
       "      <td>5906.4000</td>\n",
       "      <td>...</td>\n",
       "      <td>90560.00</td>\n",
       "      <td>4.7</td>\n",
       "      <td>17.2</td>\n",
       "      <td>0.244</td>\n",
       "      <td>122.500</td>\n",
       "      <td>-225.0</td>\n",
       "      <td>0.00001</td>\n",
       "      <td>5.0</td>\n",
       "      <td>n</td>\n",
       "      <td>NaN</td>\n",
       "    </tr>\n",
       "    <tr>\n",
       "      <th>10</th>\n",
       "      <td>Io</td>\n",
       "      <td>y</td>\n",
       "      <td>0.08933</td>\n",
       "      <td>3642.6</td>\n",
       "      <td>3530</td>\n",
       "      <td>NaN</td>\n",
       "      <td>NaN</td>\n",
       "      <td>NaN</td>\n",
       "      <td>NaN</td>\n",
       "      <td>0.4216</td>\n",
       "      <td>...</td>\n",
       "      <td>1.77</td>\n",
       "      <td>NaN</td>\n",
       "      <td>NaN</td>\n",
       "      <td>NaN</td>\n",
       "      <td>NaN</td>\n",
       "      <td>NaN</td>\n",
       "      <td>NaN</td>\n",
       "      <td>NaN</td>\n",
       "      <td>NaN</td>\n",
       "      <td>NaN</td>\n",
       "    </tr>\n",
       "    <tr>\n",
       "      <th>11</th>\n",
       "      <td>Europa</td>\n",
       "      <td>y</td>\n",
       "      <td>0.04797</td>\n",
       "      <td>3130.0</td>\n",
       "      <td>2990</td>\n",
       "      <td>NaN</td>\n",
       "      <td>NaN</td>\n",
       "      <td>NaN</td>\n",
       "      <td>NaN</td>\n",
       "      <td>0.6709</td>\n",
       "      <td>...</td>\n",
       "      <td>3.55</td>\n",
       "      <td>NaN</td>\n",
       "      <td>NaN</td>\n",
       "      <td>NaN</td>\n",
       "      <td>NaN</td>\n",
       "      <td>NaN</td>\n",
       "      <td>NaN</td>\n",
       "      <td>NaN</td>\n",
       "      <td>NaN</td>\n",
       "      <td>NaN</td>\n",
       "    </tr>\n",
       "    <tr>\n",
       "      <th>12</th>\n",
       "      <td>Ganymede</td>\n",
       "      <td>y</td>\n",
       "      <td>0.14820</td>\n",
       "      <td>5268.0</td>\n",
       "      <td>1940</td>\n",
       "      <td>NaN</td>\n",
       "      <td>NaN</td>\n",
       "      <td>NaN</td>\n",
       "      <td>NaN</td>\n",
       "      <td>1.0700</td>\n",
       "      <td>...</td>\n",
       "      <td>7.15</td>\n",
       "      <td>NaN</td>\n",
       "      <td>NaN</td>\n",
       "      <td>NaN</td>\n",
       "      <td>NaN</td>\n",
       "      <td>NaN</td>\n",
       "      <td>NaN</td>\n",
       "      <td>NaN</td>\n",
       "      <td>NaN</td>\n",
       "      <td>NaN</td>\n",
       "    </tr>\n",
       "    <tr>\n",
       "      <th>13</th>\n",
       "      <td>Callisto</td>\n",
       "      <td>y</td>\n",
       "      <td>0.10760</td>\n",
       "      <td>4806.0</td>\n",
       "      <td>1851</td>\n",
       "      <td>NaN</td>\n",
       "      <td>NaN</td>\n",
       "      <td>NaN</td>\n",
       "      <td>NaN</td>\n",
       "      <td>1.8830</td>\n",
       "      <td>...</td>\n",
       "      <td>16.69</td>\n",
       "      <td>NaN</td>\n",
       "      <td>NaN</td>\n",
       "      <td>NaN</td>\n",
       "      <td>NaN</td>\n",
       "      <td>NaN</td>\n",
       "      <td>NaN</td>\n",
       "      <td>NaN</td>\n",
       "      <td>NaN</td>\n",
       "      <td>NaN</td>\n",
       "    </tr>\n",
       "    <tr>\n",
       "      <th>14</th>\n",
       "      <td>Charon</td>\n",
       "      <td>y</td>\n",
       "      <td>0.00170</td>\n",
       "      <td>1172.0</td>\n",
       "      <td>1800</td>\n",
       "      <td>NaN</td>\n",
       "      <td>NaN</td>\n",
       "      <td>NaN</td>\n",
       "      <td>NaN</td>\n",
       "      <td>0.0194</td>\n",
       "      <td>...</td>\n",
       "      <td>6.39</td>\n",
       "      <td>NaN</td>\n",
       "      <td>NaN</td>\n",
       "      <td>NaN</td>\n",
       "      <td>NaN</td>\n",
       "      <td>NaN</td>\n",
       "      <td>NaN</td>\n",
       "      <td>NaN</td>\n",
       "      <td>NaN</td>\n",
       "      <td>NaN</td>\n",
       "    </tr>\n",
       "  </tbody>\n",
       "</table>\n",
       "<p>15 rows × 22 columns</p>\n",
       "</div>"
      ],
      "text/plain": [
       "      planet moon        mass  diameter  density  gravity  escape_velocity  \\\n",
       "0    Mercury    n     0.33000    4879.0     5427      3.7              4.3   \n",
       "1      Venus    n     4.87000   12104.0     5243      8.9             10.4   \n",
       "2      Earth    n     5.97000   12756.0     5514      9.8             11.2   \n",
       "3       Moon    y     0.07300    3475.0     3340      1.6              2.4   \n",
       "4       Mars    n     0.64200    6792.0     3933      3.7              5.0   \n",
       "5    Jupiter    n  1898.00000  142984.0     1326     23.1             59.5   \n",
       "6     Saturn    n   568.00000  120536.0      687      9.0             35.5   \n",
       "7     Uranus    n    86.80000   51118.0     1271      8.7             21.3   \n",
       "8    Neptune    n   102.00000   49528.0     1638     11.0             23.5   \n",
       "9      Pluto    n     0.01460    2370.0     2095      0.7              1.3   \n",
       "10        Io    y     0.08933    3642.6     3530      NaN              NaN   \n",
       "11    Europa    y     0.04797    3130.0     2990      NaN              NaN   \n",
       "12  Ganymede    y     0.14820    5268.0     1940      NaN              NaN   \n",
       "13  Callisto    y     0.10760    4806.0     1851      NaN              NaN   \n",
       "14    Charon    y     0.00170    1172.0     1800      NaN              NaN   \n",
       "\n",
       "    rotation_period  length_day   avg_dist  ...         T     v     i      e  \\\n",
       "0            1407.6      4222.6    57.9000  ...     88.00  47.4   7.0  0.205   \n",
       "1           -5832.5      2802.0   108.2000  ...    224.70  35.0   3.4  0.007   \n",
       "2              23.9        24.0   149.6000  ...    365.20  29.8   0.0  0.017   \n",
       "3             655.7       708.7     0.3840  ...     27.30   1.0   5.1  0.055   \n",
       "4              24.6        24.7   227.9000  ...    687.00  24.1   1.9  0.094   \n",
       "5               9.9         9.9   778.6000  ...   4331.00  13.1   1.3  0.049   \n",
       "6              10.7        10.7  1433.5000  ...  10747.00   9.7   2.5  0.057   \n",
       "7             -17.2        17.2  2872.5000  ...  30589.00   6.8   0.8  0.046   \n",
       "8              16.1        16.1  4495.1000  ...  59800.00   5.4   1.8  0.011   \n",
       "9            -153.3       153.3  5906.4000  ...  90560.00   4.7  17.2  0.244   \n",
       "10              NaN         NaN     0.4216  ...      1.77   NaN   NaN    NaN   \n",
       "11              NaN         NaN     0.6709  ...      3.55   NaN   NaN    NaN   \n",
       "12              NaN         NaN     1.0700  ...      7.15   NaN   NaN    NaN   \n",
       "13              NaN         NaN     1.8830  ...     16.69   NaN   NaN    NaN   \n",
       "14              NaN         NaN     0.0194  ...      6.39   NaN   NaN    NaN   \n",
       "\n",
       "          o   Temp         P  num_moons  rings  mag_field  \n",
       "0     0.034  167.0   0.00000        0.0      n          y  \n",
       "1   177.400  464.0  92.00000        0.0      n          n  \n",
       "2    23.400   15.0   1.00000        1.0      n          y  \n",
       "3     6.700  -20.0   0.00000        0.0      n          n  \n",
       "4    25.200  -65.0   0.00100        2.0      n          n  \n",
       "5     3.100 -110.0       NaN       79.0      y          y  \n",
       "6    26.700 -140.0       NaN       82.0      y          y  \n",
       "7    97.800 -195.0       NaN       27.0      y          y  \n",
       "8    28.300 -200.0       NaN       14.0      y          y  \n",
       "9   122.500 -225.0   0.00001        5.0      n        NaN  \n",
       "10      NaN    NaN       NaN        NaN    NaN        NaN  \n",
       "11      NaN    NaN       NaN        NaN    NaN        NaN  \n",
       "12      NaN    NaN       NaN        NaN    NaN        NaN  \n",
       "13      NaN    NaN       NaN        NaN    NaN        NaN  \n",
       "14      NaN    NaN       NaN        NaN    NaN        NaN  \n",
       "\n",
       "[15 rows x 22 columns]"
      ]
     },
     "execution_count": 119,
     "metadata": {},
     "output_type": "execute_result"
    }
   ],
   "source": [
    "s_system=pd.read_csv('planets.csv')\n",
    "s_system"
   ]
  },
  {
   "cell_type": "code",
   "execution_count": 120,
   "metadata": {
    "colab": {
     "base_uri": "https://localhost:8080/",
     "height": 508
    },
    "id": "DqMmUry_72hF",
    "outputId": "16060dca-77dc-42c6-d2e9-6297a730552a"
   },
   "outputs": [
    {
     "data": {
      "image/png": "[encoded data removed]",
      "text/plain": [
       "<Figure size 640x480 with 1 Axes>"
      ]
     },
     "metadata": {},
     "output_type": "display_data"
    }
   ],
   "source": [
    "plt.figure(constrained_layout=True)\n",
    "plt.scatter(s_system['mass'],s_system['diameter'], color='r', s=20);\n",
    "plt.xlabel(r'mass $\\times 10^{24}$ [kg]')\n",
    "plt.ylabel('diameter [km]')\n",
    "plt.yscale('log')\n",
    "plt.xscale('log')\n",
    "\n",
    "#se evidencia que en escala logarítmica la relación es lineal"
   ]
  },
  {
   "cell_type": "markdown",
   "metadata": {
    "id": "rNa0bHweew-H"
   },
   "source": [
    "![astropy](https://astropy-astrofrog.readthedocs.io/en/latest/_static/astropy_banner.svg)"
   ]
  },
  {
   "cell_type": "code",
   "execution_count": 122,
   "metadata": {
    "colab": {
     "base_uri": "https://localhost:8080/",
     "height": 382
    },
    "id": "izbdpJjBew-I",
    "outputId": "5b6fcefe-f122-4879-b5ba-20ff2f64560e"
   },
   "outputs": [],
   "source": [
    "from astropy import units as u\n",
    "from astropy.time import Time\n",
    "from astropy.coordinates import SkyCoord\n",
    "from astropy.coordinates import EarthLocation\n",
    "from astropy.stats import sigma_clipped_stats\n",
    "from astropy.utils.iers import conf\n",
    "from astropy.coordinates import get_sun, get_moon, get_body\n",
    "\n",
    "from astroplan.plots import plot_sky, plot_airmass\n",
    "from astroplan import Observer, FixedTarget"
   ]
  },
  {
   "cell_type": "markdown",
   "metadata": {
    "id": "fjzKFDOQew-I"
   },
   "source": [
    "## Guardar Coordenadas de Objetos"
   ]
  },
  {
   "cell_type": "code",
   "execution_count": 123,
   "metadata": {
    "id": "49fQyM9Tew-I"
   },
   "outputs": [
    {
     "name": "stdout",
     "output_type": "stream",
     "text": [
      "<SkyCoord (ICRS): (ra, dec) in deg\n",
      "    (83.63, 22.01)>\n"
     ]
    }
   ],
   "source": [
    "#guardar la posición de la nebulosa del cangrejo (coordenadas en ascención recta y declinación)\n",
    "position_crab = SkyCoord(83.63 * u.deg,  22.01 * u.deg, frame='icrs')\n",
    "print(position_crab)"
   ]
  },
  {
   "cell_type": "code",
   "execution_count": 124,
   "metadata": {
    "id": "GNHv3qgMew-I"
   },
   "outputs": [],
   "source": [
    "positions = SkyCoord([345., 234.3] * u.deg,  [-0.1, 0.2] * u.deg, frame='galactic')"
   ]
  },
  {
   "cell_type": "code",
   "execution_count": 125,
   "metadata": {
    "id": "EyY9RBd5ew-I"
   },
   "outputs": [],
   "source": [
    "position_crab = SkyCoord('5h34m31.97s', '22d0m52.10s', frame='icrs')\n",
    "\n",
    "# or\n",
    "\n",
    "#Usando las coordenadas en grados, minutos y segundos\n",
    "\n",
    "position_crab = SkyCoord('5:34:31.97', '22:0:52.10',\n",
    "                         unit=(u.hour, u.deg), frame='icrs')"
   ]
  },
  {
   "cell_type": "code",
   "execution_count": 126,
   "metadata": {
    "id": "hm5U__Wlew-J"
   },
   "outputs": [
    {
     "data": {
      "text/latex": [
       "$172^\\circ38{}^\\prime26.74307405{}^{\\prime\\prime}$"
      ],
      "text/plain": [
       "<Angle 172.64076197 deg>"
      ]
     },
     "execution_count": 126,
     "metadata": {},
     "output_type": "execute_result"
    }
   ],
   "source": [
    "#position_saga = SkyCoord.from_name('Sag A*')\n",
    "position_saga = SkyCoord(0 * u.deg, 0 * u.deg, frame='galactic')\n",
    "\n",
    "separation=position_crab.separation(position_saga)\n",
    "separation"
   ]
  },
  {
   "cell_type": "markdown",
   "metadata": {
    "id": "E_cUcqfhew-J"
   },
   "source": [
    "## Crear tablas"
   ]
  },
  {
   "cell_type": "code",
   "execution_count": 127,
   "metadata": {
    "id": "TBTWV4Uaew-J"
   },
   "outputs": [],
   "source": [
    "from astropy.table import Table"
   ]
  },
  {
   "cell_type": "code",
   "execution_count": 128,
   "metadata": {
    "id": "158rPWRaew-J"
   },
   "outputs": [],
   "source": [
    "table = Table()"
   ]
  },
  {
   "cell_type": "code",
   "execution_count": 129,
   "metadata": {
    "id": "-CCASGsOew-J"
   },
   "outputs": [],
   "source": [
    "#crear la tabla a mano\n",
    "\n",
    "table['Source_Name'] = ['Crab', 'Sag A*', 'Cas A', 'Vela Junior']\n",
    "table['GLON'] = [184.5575438, 0, 111.74169477, 266.25914205] * u.deg\n",
    "table['GLAT'] = [-5.78427369, 0, -2.13544151, -1.21985818] * u.deg\n",
    "table['Source_Class'] = ['psr', 'bh', 'snr', 'snr']"
   ]
  },
  {
   "cell_type": "code",
   "execution_count": 130,
   "metadata": {
    "id": "ejGLojyXew-J"
   },
   "outputs": [],
   "source": [
    "#guardar la tabla en un archivo\n",
    "table.write('example.csv', overwrite=True, format='csv')"
   ]
  },
  {
   "cell_type": "markdown",
   "metadata": {
    "id": "t3D7BGyGew-K"
   },
   "source": [
    "## Visualizar observación de objetos con ayuda de Astroplan"
   ]
  },
  {
   "cell_type": "code",
   "execution_count": null,
   "metadata": {
    "id": "nswggVb1ew-K"
   },
   "outputs": [],
   "source": [
    "# Let us manually add the location for the Liverpool Telescope\n",
    "latitude = 28.76234 * u.deg\n",
    "longitude = -17.87925 * u.deg\n",
    "elevation = 2363 * u.m\n",
    "\n",
    "---COMPLETAR---"
   ]
  },
  {
   "cell_type": "code",
   "execution_count": null,
   "metadata": {
    "id": "kmlR0Uy_ew-K"
   },
   "outputs": [],
   "source": [
    "# Calculating the sunset, midnight and sunrise times for our observatory\n",
    "# What is astronomical twilight?\n",
    "now = Time.now()\n",
    "\n",
    "---COMPLETAR---"
   ]
  },
  {
   "cell_type": "code",
   "execution_count": null,
   "metadata": {
    "id": "V2kTb2L7ew-K"
   },
   "outputs": [],
   "source": [
    "# using coordinates\n",
    "coords = SkyCoord('18h53m35.097s +33d01m44.8831s', frame='icrs') # coordinates of the Ring Nebula (M57)\n",
    "m57 = FixedTarget(name = 'M57', coord=coords)\n",
    "m57.ra.hms"
   ]
  },
  {
   "cell_type": "code",
   "execution_count": null,
   "metadata": {
    "id": "7IT3PkpUew-K"
   },
   "outputs": [],
   "source": [
    "# by name\n",
    "target = FixedTarget.from_name('m57') # Messier 57\n",
    "target.coord"
   ]
  },
  {
   "cell_type": "code",
   "execution_count": null,
   "metadata": {
    "id": "x9j57Zmxew-K"
   },
   "outputs": [],
   "source": [
    "target2 = FixedTarget.from_name('m1') # Messier 57\n",
    "target2.coord"
   ]
  },
  {
   "cell_type": "code",
   "execution_count": null,
   "metadata": {
    "id": "alWKqQqpew-K"
   },
   "outputs": [],
   "source": [
    "#t_observe = Time('2024-06-30 23:30:00') + np.linspace(-5.0, 5.0, 40)*u.hour\n",
    "\n",
    "---COMPLETAR---\n",
    "\n",
    "fig = plt.figure(figsize=(6.0,6.0))\n",
    "ax = fig.add_subplot(projection = 'polar')\n",
    "plot_sky(target, liverpool, t_observe, ax=ax);\n",
    "plot_sky(target2, liverpool, t_observe, ax=ax);\n"
   ]
  },
  {
   "cell_type": "code",
   "execution_count": null,
   "metadata": {
    "id": "Ztl-Qc6Tew-L"
   },
   "outputs": [],
   "source": [
    "---COMPLETAR---\n",
    "\n",
    "fig, ax = plt.subplots(figsize=(10, 6))\n",
    "plot_airmass(target, liverpool, t_observe, brightness_shading=True, altitude_yaxis=True, ax=ax);\n",
    "plot_airmass(target2, liverpool, t_observe, brightness_shading=True, altitude_yaxis=True, ax=ax);\n",
    "plt.grid();"
   ]
  },
  {
   "cell_type": "code",
   "execution_count": null,
   "metadata": {
    "id": "U9vqa4upew-L"
   },
   "outputs": [],
   "source": [
    "altair = FixedTarget.from_name('Altair')\n",
    "vega = FixedTarget.from_name('Vega')\n",
    "deneb = FixedTarget.from_name('Deneb')\n",
    "\n",
    "objects = [altair, vega, deneb]\n",
    "\n",
    "---COMPLETAR---\n",
    "\n",
    "fig, ax = plt.subplots(figsize=(10, 6))\n",
    "plot_airmass(objects, liverpool, observe_time, ax=ax, brightness_shading=True, altitude_yaxis=True)\n",
    "ax.legend(loc=2)\n",
    "plt.show()"
   ]
  },
  {
   "cell_type": "markdown",
   "metadata": {
    "id": "Q--pP7UCew-L"
   },
   "source": [
    "## Ejercicio\n",
    "\n",
    "Cargar la lista de objetos del archivo TXT y observar cuáles son observables para la ciudad de Bogotá hoy"
   ]
  },
  {
   "cell_type": "code",
   "execution_count": null,
   "metadata": {
    "id": "-04EDK5Qew-L"
   },
   "outputs": [],
   "source": [
    "from astropy.io import ascii\n",
    "table = ascii.read('targetlist.txt')\n",
    "\n",
    " --- COMPLETAR ---"
   ]
  },
  {
   "cell_type": "code",
   "execution_count": null,
   "metadata": {
    "id": "akHJc3N_ew-L"
   },
   "outputs": [],
   "source": [
    "t_observe = Time('2024-06-30 00:00:00') + np.linspace(-8.0, 8.0, 80)*u.hour\n",
    "\n",
    "--- COMPLETAR ---"
   ]
  },
  {
   "cell_type": "code",
   "execution_count": null,
   "metadata": {
    "id": "GoC5V3iiew-L"
   },
   "outputs": [],
   "source": [
    "--- COMPLETAR ---\n",
    "\n",
    "fig = plt.figure(figsize=(6.0,6.0))\n",
    "ax = fig.add_subplot(projection = 'polar')\n",
    "for target in targets:\n",
    "    plot_sky(target, liverpool, times, ax=ax)\n",
    "plt.legend(loc=[1.1,0]);"
   ]
  }
 ],
 "metadata": {
  "@webio": {
   "lastCommId": "8dcdfb2dba1843138432b9a471109ba2",
   "lastKernelId": "40c3d3f4-4dc0-4ef0-9f84-ad757b8911a8"
  },
  "celltoolbar": "Slideshow",
  "colab": {
   "provenance": []
  },
  "kernelspec": {
   "display_name": "Python 3 (ipykernel)",
   "language": "python",
   "name": "python3"
  },
  "language_info": {
   "codemirror_mode": {
    "name": "ipython",
    "version": 3
   },
   "file_extension": ".py",
   "mimetype": "text/x-python",
   "name": "python",
   "nbconvert_exporter": "python",
   "pygments_lexer": "ipython3",
   "version": "3.10.9"
  }
 },
 "nbformat": 4,
 "nbformat_minor": 1
}
